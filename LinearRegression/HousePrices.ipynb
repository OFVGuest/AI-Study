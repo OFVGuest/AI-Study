version https://git-lfs.github.com/spec/v1
oid sha256:be548f177c6449bf5edc8c0ae1acb0ade163406223e880607667fe57cfc19bc3
size 558671
