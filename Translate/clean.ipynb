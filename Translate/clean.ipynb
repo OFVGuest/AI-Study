{
 "cells": [
  {
   "cell_type": "code",
   "execution_count": 1,
   "metadata": {},
   "outputs": [
    {
     "name": "stdout",
     "output_type": "stream",
     "text": [
      "Contenido modificado (CC-BY 2.0 eliminado y espacios en blanco eliminados) y guardado en el archivo.\n"
     ]
    }
   ],
   "source": [
    "import re\n",
    "\n",
    "# Especifica la ruta de tu archivo de texto\n",
    "file_path = 'eng-spa.txt'\n",
    "\n",
    "# Lee el contenido del archivo\n",
    "with open(file_path, 'r', encoding='utf-8') as file:\n",
    "    data = file.read()\n",
    "\n",
    "# Convierte todo el texto a minúsculas\n",
    "data_lower = data.lower()\n",
    "\n",
    "# Define un patrón de expresión regular para coincidir con \"CC-BY 2.0\" y todo lo que sigue\n",
    "pattern = re.compile(r'cc-by 2\\.0.*$')\n",
    "\n",
    "# Aplica el patrón a cada línea y elimina el contenido coincidente\n",
    "modified_content = []\n",
    "for line in data_lower.split('\\n'):\n",
    "    modified_line = re.sub(pattern, '', line).rstrip()\n",
    "    modified_content.append(modified_line)\n",
    "\n",
    "# Escribe el contenido modificado de nuevo al archivo\n",
    "with open(file_path, 'w', encoding='utf-8') as file:\n",
    "    file.write('\\n'.join(modified_content))\n",
    "\n",
    "print(\"Contenido modificado (CC-BY 2.0 eliminado y espacios en blanco eliminados) y guardado en el archivo.\")"
   ]
  }
 ],
 "metadata": {
  "kernelspec": {
   "display_name": "Python 3",
   "language": "python",
   "name": "python3"
  },
  "language_info": {
   "codemirror_mode": {
    "name": "ipython",
    "version": 3
   },
   "file_extension": ".py",
   "mimetype": "text/x-python",
   "name": "python",
   "nbconvert_exporter": "python",
   "pygments_lexer": "ipython3",
   "version": "3.10.11"
  }
 },
 "nbformat": 4,
 "nbformat_minor": 2
}
