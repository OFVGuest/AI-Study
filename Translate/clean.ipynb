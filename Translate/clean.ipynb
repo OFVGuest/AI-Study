{
 "cells": [
  {
   "cell_type": "code",
   "execution_count": 3,
   "metadata": {},
   "outputs": [
    {
     "name": "stdout",
     "output_type": "stream",
     "text": [
      "Content modified (CC-BY 2.0 removed) and saved to the file.\n"
     ]
    }
   ],
   "source": [
    "import re\n",
    "\n",
    "# Specify the path to your text file\n",
    "file_path = 'spa.txt'\n",
    "\n",
    "# Read the content from the file\n",
    "with open(file_path, 'r', encoding='utf-8') as file:\n",
    "    data = file.read()\n",
    "\n",
    "# Define a regular expression pattern to match \"CC-BY 2.0\" and everything that follows\n",
    "pattern = re.compile(r'CC-BY 2\\.0.*$')\n",
    "\n",
    "# Apply the pattern to each line and remove the matched content\n",
    "modified_content = []\n",
    "for line in data.split('\\n'):\n",
    "    modified_line = re.sub(pattern, '', line)\n",
    "    modified_content.append(modified_line)\n",
    "\n",
    "# Write the modified content back to the file\n",
    "with open(file_path, 'w', encoding='utf-8') as file:\n",
    "    file.write('\\n'.join(modified_content))\n",
    "\n",
    "print(\"Content modified (CC-BY 2.0 removed) and saved to the file.\")"
   ]
  }
 ],
 "metadata": {
  "kernelspec": {
   "display_name": "Python 3",
   "language": "python",
   "name": "python3"
  },
  "language_info": {
   "codemirror_mode": {
    "name": "ipython",
    "version": 3
   },
   "file_extension": ".py",
   "mimetype": "text/x-python",
   "name": "python",
   "nbconvert_exporter": "python",
   "pygments_lexer": "ipython3",
   "version": "3.10.11"
  }
 },
 "nbformat": 4,
 "nbformat_minor": 2
}
