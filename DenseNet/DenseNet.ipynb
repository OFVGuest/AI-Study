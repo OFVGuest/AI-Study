{
 "cells": [
  {
   "cell_type": "code",
   "execution_count": null,
   "id": "f2523c12-1488-45d4-9057-0f6c9c04b4f0",
   "metadata": {},
   "outputs": [],
   "source": [
    "import tensorflow as tf\n",
    "from tensorflow.keras import layers"
   ]
  },
  {
   "cell_type": "code",
   "execution_count": null,
   "id": "0a1876d4-cdd6-4bd0-9d1c-04bde1901563",
   "metadata": {},
   "outputs": [],
   "source": [
    "from tensorflow.keras import datasets\n",
    "(x_train, y_train), (x_test, y_test) = datasets.mnist.load_data()\n",
    "x_train = tf.pad(x_train, [[0, 0], [2, 2], [2, 2]])/255\n",
    "x_test = tf.pad(x_test, [[0, 0], [2, 2], [2, 2]])/255\n",
    "x_train = tf.expand_dims(x_train, axis=3, name=None)\n",
    "x_test = tf.expand_dims(x_test, axis=3, name=None)\n",
    "x_train = tf.repeat(x_train, 3, axis=3)\n",
    "x_test = tf.repeat(x_test, 3, axis=3)\n",
    "x_val = x_train[-2000:, :, :, :]\n",
    "y_val = y_train[-2000:]\n",
    "x_train = x_train[:-2000, :, :, :]\n",
    "y_train = y_train[:-2000]"
   ]
  },
  {
   "cell_type": "code",
   "execution_count": null,
   "id": "af23ed90-cd54-48ac-a2e8-d8f67d269821",
   "metadata": {},
   "outputs": [],
   "source": [
    "class conv_block(tf.keras.layers.Layer):\n",
    "    def __init__(self, num_channels: int):\n",
    "        super(conv_block, self).__init__()\n",
    "        self.conv = layers.Conv2D(num_channels, kernel_size=3, padding='same')\n",
    "        self.bn = layers.BatchNormalization()\n",
    "\n",
    "    def call(self, inp):\n",
    "        x = self.conv(inp)\n",
    "        x = self.bn(x)\n",
    "        out = tf.nn.relu(x)\n",
    "        return out"
   ]
  },
  {
   "cell_type": "code",
   "execution_count": null,
   "id": "0893fd60-69d2-4078-b29c-5e22886e8558",
   "metadata": {},
   "outputs": [],
   "source": [
    "class DenseBlock(tf.keras.layers.Layer):\n",
    "    def __init__(self, num_convs, num_channels):\n",
    "        super(DenseBlock, self).__init__()\n",
    "        self.layer_list = []\n",
    "        for i in range(num_convs):\n",
    "            self.layer_list.append(conv_block(num_channels))\n",
    "\n",
    "    def call(self, x):\n",
    "        for blk in self.layer_list:\n",
    "            out = blk(x)\n",
    "            x = layers.concatenate([x, out])\n",
    "        return x"
   ]
  },
  {
   "cell_type": "code",
   "execution_count": null,
   "id": "705c0137-bcea-4d14-9d98-bda832fd22f2",
   "metadata": {},
   "outputs": [],
   "source": [
    "class TransitionBlock(tf.keras.layers.Layer):\n",
    "    def __init__(self, num_channels: int):\n",
    "        super(TransitionBlock, self).__init__()\n",
    "        self.conv = layers.Conv2D(num_channels, kernel_size=1)\n",
    "        self.bn = layers.BatchNormalization()\n",
    "        self.ga = layers.AveragePooling2D(pool_size=2, strides=2)\n",
    "\n",
    "    def call(self, inp):\n",
    "        x = self.bn(inp)\n",
    "        x = tf.nn.relu(x)\n",
    "        x = self.conv(x)\n",
    "        out = self.ga(x)\n",
    "        return out"
   ]
  },
  {
   "cell_type": "code",
   "execution_count": null,
   "id": "80c953ef-9803-42d4-ab2e-df528c46f60a",
   "metadata": {},
   "outputs": [],
   "source": [
    "class DenseNet(tf.keras.Model):\n",
    "    def __init__(self, num_channels=64, growth_rate=32, arch=(4, 4, 4, 4), num_classes=10):\n",
    "        super(DenseNet, self).__init__()\n",
    "        self.num_channels = num_channels\n",
    "        self.growth_rate = growth_rate\n",
    "        \n",
    "        self.b1 = tf.keras.Sequential([\n",
    "            layers.Conv2D(64, kernel_size=(7, 7), strides=(2, 2), padding='same'),\n",
    "            layers.BatchNormalization(),\n",
    "            layers.ReLU(),\n",
    "            layers.MaxPooling2D(pool_size=(3, 3), strides=(2, 2), padding='same')\n",
    "        ])\n",
    "        \n",
    "        self.dense_blocks = []\n",
    "        self.transition_blocks = []\n",
    "        \n",
    "        for i, num_convs in enumerate(arch):\n",
    "            self.dense_blocks.append(DenseBlock(num_convs, growth_rate))\n",
    "            self.num_channels += num_convs * growth_rate\n",
    "            if i != len(arch) - 1:\n",
    "                self.transition_blocks.append(TransitionBlock(self.num_channels // 2))\n",
    "                self.num_channels //= 2\n",
    "                \n",
    "        self.last = tf.keras.Sequential([\n",
    "            layers.BatchNormalization(),\n",
    "            layers.ReLU(),\n",
    "            layers.GlobalAveragePooling2D(),\n",
    "            layers.Flatten(),\n",
    "            layers.Dense(num_classes, activation='softmax')\n",
    "        ])\n",
    "        \n",
    "    def call(self, x):\n",
    "        x = self.b1(x)\n",
    "        for dense_block, transition_block in zip(self.dense_blocks, self.transition_blocks):\n",
    "            x = dense_block(x)\n",
    "            x = transition_block(x)\n",
    "\n",
    "        x = self.last(x)\n",
    "        return x"
   ]
  },
  {
   "cell_type": "code",
   "execution_count": null,
   "id": "276396a9-7bad-49a1-9cfa-150f61f69a40",
   "metadata": {},
   "outputs": [],
   "source": [
    "model = tf.keras.Sequential([DenseNet()])\n",
    "model.compile(optimizer='adam', loss='sparse_categorical_crossentropy', metrics=['accuracy'])\n",
    "model.fit(x_train, y_train, validation_data=(x_val, y_val), batch_size=64, epochs=10)"
   ]
  }
 ],
 "metadata": {
  "kernelspec": {
   "display_name": "Python 3 (ipykernel)",
   "language": "python",
   "name": "python3"
  },
  "language_info": {
   "codemirror_mode": {
    "name": "ipython",
    "version": 3
   },
   "file_extension": ".py",
   "mimetype": "text/x-python",
   "name": "python",
   "nbconvert_exporter": "python",
   "pygments_lexer": "ipython3",
   "version": "3.9.18"
  }
 },
 "nbformat": 4,
 "nbformat_minor": 5
}
