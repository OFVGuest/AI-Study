{
 "cells": [
  {
   "cell_type": "code",
   "execution_count": 214,
   "id": "b53e9f55-656e-45d4-9276-06b154edcf62",
   "metadata": {},
   "outputs": [],
   "source": [
    "import pandas as pd\n",
    "import numpy as np\n",
    "import matplotlib.pyplot as plt\n",
    "import seaborn as sns\n",
    "from sklearn.preprocessing import OneHotEncoder\n",
    "from sklearn.preprocessing import StandardScaler\n",
    "from sklearn.model_selection import train_test_split\n",
    "from sklearn.tree import DecisionTreeRegressor\n",
    "from sklearn.metrics import mean_squared_error"
   ]
  },
  {
   "cell_type": "markdown",
   "id": "6e9c7b3d-da5e-4e54-8524-76c0546b5345",
   "metadata": {},
   "source": [
    "# Data Preprocessing"
   ]
  },
  {
   "cell_type": "markdown",
   "id": "63fcb3a9-3a47-4985-b6d5-59734775448e",
   "metadata": {
    "tags": []
   },
   "source": [
    "## Data obtaining"
   ]
  },
  {
   "cell_type": "code",
   "execution_count": 2,
   "id": "aca2a410-7be0-4734-a5db-6199ba352f79",
   "metadata": {
    "tags": []
   },
   "outputs": [],
   "source": [
    "raw_df = pd.read_csv('ArgentinaRemuneracion.csv')"
   ]
  },
  {
   "cell_type": "code",
   "execution_count": 4,
   "id": "14b59d09-b1d3-4373-b65f-d6a410355d62",
   "metadata": {
    "tags": []
   },
   "outputs": [
    {
     "name": "stdout",
     "output_type": "stream",
     "text": [
      "<class 'pandas.core.frame.DataFrame'>\n",
      "RangeIndex: 5767 entries, 0 to 5766\n",
      "Data columns (total 50 columns):\n",
      " #   Column                                                                                Non-Null Count  Dtype  \n",
      "---  ------                                                                                --------------  -----  \n",
      " 0   estoy_trabajando_en                                                                   5767 non-null   object \n",
      " 1   donde_estas_trabajando                                                                5767 non-null   object \n",
      " 2   dedicacion                                                                            5767 non-null   object \n",
      " 3   tipo_de_contrato                                                                      5767 non-null   object \n",
      " 4   ultimo_salario_mensual_o_retiro_bruto_en_tu_moneda_local                              5767 non-null   float64\n",
      " 5   ultimo_salario_mensual_o_retiro_neto_en_tu_moneda_local                               5557 non-null   object \n",
      " 6   pagos_en_dolares                                                                      1551 non-null   object \n",
      " 7   si_tu_sueldo_esta_dolarizado_cual_fue_el_ultimo_valor_del_dolar_que_tomaron           984 non-null    object \n",
      " 8   pagos_en_criptomonedas                                                                175 non-null    object \n",
      " 9   que_porcentaje_o_monto_recibis_en_criptomonedas                                       790 non-null    object \n",
      " 10  recibis_algun_tipo_de_bono                                                            5767 non-null   object \n",
      " 11  a_que_esta_atado_el_bono                                                              5767 non-null   object \n",
      " 12  tuviste_actualizaciones_de_tus_ingresos_laborales_durante_2022                        5767 non-null   object \n",
      " 13  de_que_fue_el_ajuste_total_acumulado                                                  4857 non-null   float64\n",
      " 14  en_que_mes_fue_el_ultimo_ajuste                                                       5767 non-null   object \n",
      " 15  como_consideras_que_estan_tus_ingresos_laborales_comparados_con_el_semestre_anterior  5767 non-null   int64  \n",
      " 16  con_que_beneficios_contas                                                             5767 non-null   object \n",
      " 17  que_tan_conforme_estas_con_tus_ingresos_laborales                                     5767 non-null   int64  \n",
      " 18  estas_buscando_trabajo                                                                5767 non-null   object \n",
      " 19  trabajo_de                                                                            5767 non-null   object \n",
      " 20  anos_de_experiencia                                                                   5767 non-null   float64\n",
      " 21  antigüedad_en_la_empresa_actual                                                       5767 non-null   float64\n",
      " 22  tiempo_en_el_puesto_actual                                                            5767 non-null   float64\n",
      " 23  cuantas_personas_a_cargo_tenes                                                        5767 non-null   int64  \n",
      " 24  plataformas_que_utilizas_en_tu_puesto_actual                                          5765 non-null   object \n",
      " 25  lenguajes_de_programacion_o_tecnologias_que_utilices_en_tu_puesto_actual              5767 non-null   object \n",
      " 26  frameworksherramientas_y_librerias_que_utilices_en_tu_puesto_actual                   5766 non-null   object \n",
      " 27  bases_de_datos                                                                        5766 non-null   object \n",
      " 28  qa_testing                                                                            5762 non-null   object \n",
      " 29  cantidad_de_personas_en_tu_organizacion                                               5767 non-null   object \n",
      " 30  modalidad_de_trabajo                                                                  5767 non-null   object \n",
      " 31  si_trabajas_bajo_un_esquema_hibrido_cuantos_dias_a_la_semana_vas_a_la_oficina         5767 non-null   int64  \n",
      " 32  la_recomendas_como_un_buen_lugar_para_trabajar                                        5767 non-null   int64  \n",
      " 33  salir_o_seguir_contestando                                                            5767 non-null   object \n",
      " 34  maximo_nivel_de_estudios                                                              2654 non-null   object \n",
      " 35  estado                                                                                2654 non-null   object \n",
      " 36  carrera                                                                               2541 non-null   object \n",
      " 37  universidad                                                                           2050 non-null   object \n",
      " 38  participaste_de_algun_boot_camp                                                       651 non-null    object \n",
      " 39  si_participaste_de_un_boot_campque_carrera_estudiaste                                 403 non-null    object \n",
      " 40  salir_o_seguir_contestando_sobre_las_guardias                                         2654 non-null   object \n",
      " 41  tenes_guardias                                                                        1739 non-null   object \n",
      " 42  cuanto_cobras_por_guardia                                                             1739 non-null   float64\n",
      " 43  porcentajebruto_o_neto                                                                1739 non-null   object \n",
      " 44  salir_o_seguir_contestando_sobre_estudios                                             1739 non-null   object \n",
      " 45  tengo_edad                                                                            5767 non-null   object \n",
      " 46  me_identifico_genero                                                                  5767 non-null   object \n",
      " 47  sueldo_dolarizado                                                                     5767 non-null   bool   \n",
      " 48  seniority                                                                             5767 non-null   object \n",
      " 49  me_id_extra                                                                           5567 non-null   object \n",
      "dtypes: bool(1), float64(6), int64(5), object(38)\n",
      "memory usage: 2.2+ MB\n"
     ]
    }
   ],
   "source": [
    "raw_df.info()"
   ]
  },
  {
   "cell_type": "code",
   "execution_count": 201,
   "id": "acfadd48-ec42-424d-8474-41efba8e2a6b",
   "metadata": {
    "tags": []
   },
   "outputs": [],
   "source": [
    "inputs = ['donde_estas_trabajando', 'dedicacion', 'tipo_de_contrato', 'recibis_algun_tipo_de_bono', 'tengo_edad', 'sueldo_dolarizado', 'seniority']\n",
    "target = ['ultimo_salario_mensual_o_retiro_bruto_en_tu_moneda_local']\n",
    "inputs_df = raw_df[inputs+target].copy()"
   ]
  },
  {
   "cell_type": "code",
   "execution_count": 202,
   "id": "722a0458-a3b4-4d4e-8876-07e5c88de3ed",
   "metadata": {
    "tags": []
   },
   "outputs": [
    {
     "name": "stdout",
     "output_type": "stream",
     "text": [
      "<class 'pandas.core.frame.DataFrame'>\n",
      "Int64Index: 5747 entries, 0 to 5766\n",
      "Data columns (total 7 columns):\n",
      " #   Column                      Non-Null Count  Dtype  \n",
      "---  ------                      --------------  -----  \n",
      " 0   donde_estas_trabajando      5747 non-null   object \n",
      " 1   dedicacion                  5747 non-null   object \n",
      " 2   tipo_de_contrato            5747 non-null   object \n",
      " 3   recibis_algun_tipo_de_bono  5747 non-null   object \n",
      " 4   tengo_edad                  5747 non-null   float64\n",
      " 5   sueldo_dolarizado           5747 non-null   bool   \n",
      " 6   seniority                   5747 non-null   object \n",
      "dtypes: bool(1), float64(1), object(5)\n",
      "memory usage: 319.9+ KB\n"
     ]
    }
   ],
   "source": [
    "inputs_df['tengo_edad'] = pd.to_numeric(inputs_df['tengo_edad'], errors='coerce')\n",
    "inputs_df.dropna(subset=['tengo_edad'], inplace=True)\n",
    "inputs_df = inputs_df[(inputs_df['tengo_edad'] > 18) & (inputs_df['tengo_edad'] < 80)]\n",
    "targets = inputs_df[target]\n",
    "inputs_df = inputs_df.drop('ultimo_salario_mensual_o_retiro_bruto_en_tu_moneda_local', axis=1)\n",
    "inputs_df.info()"
   ]
  },
  {
   "cell_type": "markdown",
   "id": "87de69f6-4639-405a-a490-87585e436e58",
   "metadata": {
    "tags": []
   },
   "source": [
    "## Data visualization"
   ]
  },
  {
   "cell_type": "code",
   "execution_count": 154,
   "id": "4fac0728-65bd-47ac-aa96-bd24e938d8f7",
   "metadata": {
    "tags": []
   },
   "outputs": [],
   "source": [
    "sns.set_theme()"
   ]
  },
  {
   "cell_type": "code",
   "execution_count": 155,
   "id": "2a934c7e-bc84-441a-a6e7-846dcc21e768",
   "metadata": {
    "tags": []
   },
   "outputs": [
    {
     "data": {
      "text/plain": [
       "Text(0, 0.5, 'Cuenta')"
      ]
     },
     "execution_count": 155,
     "metadata": {},
     "output_type": "execute_result"
    },
    {
     "data": {
      "image/png": "[encoded data removed]",
      "text/plain": [
       "<Figure size 800x600 with 1 Axes>"
      ]
     },
     "metadata": {},
     "output_type": "display_data"
    }
   ],
   "source": [
    "fig, ax = plt.subplots(1, 1, figsize=(8,6))\n",
    "sns.countplot(data=inputs_df, x='donde_estas_trabajando')\n",
    "ax.set_xticklabels(ax.get_xticklabels(), rotation = 90, fontsize=7);\n",
    "ax.set_xlabel(\"Lugar de trabajo\");\n",
    "ax.set_ylabel(\"Cuenta\")"
   ]
  },
  {
   "cell_type": "code",
   "execution_count": 157,
   "id": "96730e00-4069-4fdd-896e-f49f399dafca",
   "metadata": {
    "tags": []
   },
   "outputs": [
    {
     "data": {
      "image/png": "[encoded data removed]",
      "text/plain": [
       "<Figure size 800x600 with 1 Axes>"
      ]
     },
     "metadata": {},
     "output_type": "display_data"
    }
   ],
   "source": [
    "fig, ax = plt.subplots(1, 1, figsize=(8,6))\n",
    "sns.countplot(data=inputs_df, x='dedicacion')\n",
    "ax.set_xticklabels(ax.get_xticklabels(), fontsize=15);\n",
    "ax.set_xlabel(\"Tipo de trabajo\");\n",
    "ax.set_ylabel(\"Cuenta\");"
   ]
  },
  {
   "cell_type": "code",
   "execution_count": 158,
   "id": "06c1895d-7d3d-4e47-b446-58f98eb40ce0",
   "metadata": {
    "tags": []
   },
   "outputs": [
    {
     "data": {
      "image/png": "[encoded data removed]",
      "text/plain": [
       "<Figure size 800x600 with 1 Axes>"
      ]
     },
     "metadata": {},
     "output_type": "display_data"
    }
   ],
   "source": [
    "fig, ax = plt.subplots(1, 1, figsize=(8,6))\n",
    "sns.countplot(data=inputs_df, x='tipo_de_contrato')\n",
    "ax.set_xticklabels(ax.get_xticklabels(), fontsize=10, rotation=60);\n",
    "ax.set_xlabel(\"Tipo de contrato\");\n",
    "ax.set_ylabel(\"Cuenta\");"
   ]
  },
  {
   "cell_type": "code",
   "execution_count": 159,
   "id": "3a5c12a9-d109-4b7c-8cf4-dbe31a7407dc",
   "metadata": {
    "tags": []
   },
   "outputs": [
    {
     "data": {
      "image/png": "[encoded data removed]",
      "text/plain": [
       "<Figure size 800x600 with 1 Axes>"
      ]
     },
     "metadata": {},
     "output_type": "display_data"
    }
   ],
   "source": [
    "fig, ax = plt.subplots(1, 1, figsize=(8,6))\n",
    "sns.countplot(data=inputs_df, x='recibis_algun_tipo_de_bono')\n",
    "ax.set_xticklabels(ax.get_xticklabels(), fontsize=10, rotation=90);\n",
    "ax.set_xlabel(\"Bonos\");\n",
    "ax.set_ylabel(\"Cuenta\");"
   ]
  },
  {
   "cell_type": "markdown",
   "id": "e6d03346-2bf5-4e70-b4bd-229e10d782b7",
   "metadata": {
    "tags": []
   },
   "source": [
    "## Data encoding & scaling"
   ]
  },
  {
   "cell_type": "code",
   "execution_count": 203,
   "id": "0cf3eb36-f2f1-408a-9d5a-a3c7d58d04c7",
   "metadata": {
    "tags": []
   },
   "outputs": [
    {
     "name": "stdout",
     "output_type": "stream",
     "text": [
      "<class 'pandas.core.frame.DataFrame'>\n",
      "Int64Index: 5747 entries, 0 to 5766\n",
      "Data columns (total 7 columns):\n",
      " #   Column                      Non-Null Count  Dtype  \n",
      "---  ------                      --------------  -----  \n",
      " 0   donde_estas_trabajando      5747 non-null   object \n",
      " 1   dedicacion                  5747 non-null   object \n",
      " 2   tipo_de_contrato            5747 non-null   object \n",
      " 3   recibis_algun_tipo_de_bono  5747 non-null   object \n",
      " 4   tengo_edad                  5747 non-null   float64\n",
      " 5   sueldo_dolarizado           5747 non-null   bool   \n",
      " 6   seniority                   5747 non-null   object \n",
      "dtypes: bool(1), float64(1), object(5)\n",
      "memory usage: 319.9+ KB\n"
     ]
    }
   ],
   "source": [
    "inputs_df.info()"
   ]
  },
  {
   "cell_type": "code",
   "execution_count": 204,
   "id": "e7f1e83c-0bbb-4363-b26e-0df533acc2e8",
   "metadata": {
    "tags": []
   },
   "outputs": [],
   "source": [
    "numeric_cols = inputs_df.select_dtypes(include='float64').columns.tolist()\n",
    "categorical_cols = inputs_df.select_dtypes(include='object').columns.tolist()"
   ]
  },
  {
   "cell_type": "code",
   "execution_count": 206,
   "id": "3e95158d-f416-440c-b676-38e5a922ba2f",
   "metadata": {
    "tags": []
   },
   "outputs": [],
   "source": [
    "scaler = StandardScaler()\n",
    "scaler.fit(inputs_df[numeric_cols])\n",
    "inputs_df[numeric_cols] = scaler.transform(inputs_df[numeric_cols])"
   ]
  },
  {
   "cell_type": "code",
   "execution_count": 207,
   "id": "8044217d-a07b-4428-9de1-330a1f8657e6",
   "metadata": {
    "tags": []
   },
   "outputs": [
    {
     "name": "stderr",
     "output_type": "stream",
     "text": [
      "C:\\Users\\USER\\AppData\\Local\\Packages\\PythonSoftwareFoundation.Python.3.10_qbz5n2kfra8p0\\LocalCache\\local-packages\\Python310\\site-packages\\sklearn\\preprocessing\\_encoders.py:975: FutureWarning: `sparse` was renamed to `sparse_output` in version 1.2 and will be removed in 1.4. `sparse_output` is ignored unless you leave `sparse` to its default value.\n",
      "  warnings.warn(\n"
     ]
    }
   ],
   "source": [
    "encoder = OneHotEncoder(sparse=False, handle_unknown='ignore')\n",
    "encoder.fit(inputs_df[categorical_cols])\n",
    "encoded_cols = list(encoder.get_feature_names_out(categorical_cols))\n",
    "inputs_df[encoded_cols] = encoder.transform(inputs_df[categorical_cols])"
   ]
  },
  {
   "cell_type": "code",
   "execution_count": 208,
   "id": "c81bd7fd-a4b3-4f00-a00b-4e46c3c77da6",
   "metadata": {
    "tags": []
   },
   "outputs": [
    {
     "data": {
      "text/html": [
       "<div>\n",
       "<style scoped>\n",
       "    .dataframe tbody tr th:only-of-type {\n",
       "        vertical-align: middle;\n",
       "    }\n",
       "\n",
       "    .dataframe tbody tr th {\n",
       "        vertical-align: top;\n",
       "    }\n",
       "\n",
       "    .dataframe thead th {\n",
       "        text-align: right;\n",
       "    }\n",
       "</style>\n",
       "<table border=\"1\" class=\"dataframe\">\n",
       "  <thead>\n",
       "    <tr style=\"text-align: right;\">\n",
       "      <th></th>\n",
       "      <th>donde_estas_trabajando</th>\n",
       "      <th>dedicacion</th>\n",
       "      <th>tipo_de_contrato</th>\n",
       "      <th>recibis_algun_tipo_de_bono</th>\n",
       "      <th>tengo_edad</th>\n",
       "      <th>sueldo_dolarizado</th>\n",
       "      <th>seniority</th>\n",
       "      <th>donde_estas_trabajando_Buenos Aires</th>\n",
       "      <th>donde_estas_trabajando_Catamarca</th>\n",
       "      <th>donde_estas_trabajando_Chaco</th>\n",
       "      <th>...</th>\n",
       "      <th>tipo_de_contrato_Staff (planta permanente)</th>\n",
       "      <th>tipo_de_contrato_Tercerizado (trabajo a través de consultora o agencia)</th>\n",
       "      <th>recibis_algun_tipo_de_bono_3+ sueldos</th>\n",
       "      <th>recibis_algun_tipo_de_bono_De uno a tres sueldos</th>\n",
       "      <th>recibis_algun_tipo_de_bono_Menos de un sueldo</th>\n",
       "      <th>recibis_algun_tipo_de_bono_No</th>\n",
       "      <th>recibis_algun_tipo_de_bono_Un sueldo</th>\n",
       "      <th>seniority_Junior</th>\n",
       "      <th>seniority_Semi-Senior</th>\n",
       "      <th>seniority_Senior</th>\n",
       "    </tr>\n",
       "  </thead>\n",
       "  <tbody>\n",
       "    <tr>\n",
       "      <th>0</th>\n",
       "      <td>Buenos Aires</td>\n",
       "      <td>Full-Time</td>\n",
       "      <td>Staff (planta permanente)</td>\n",
       "      <td>Menos de un sueldo</td>\n",
       "      <td>-1.056386</td>\n",
       "      <td>False</td>\n",
       "      <td>Semi-Senior</td>\n",
       "      <td>1.0</td>\n",
       "      <td>0.0</td>\n",
       "      <td>0.0</td>\n",
       "      <td>...</td>\n",
       "      <td>1.0</td>\n",
       "      <td>0.0</td>\n",
       "      <td>0.0</td>\n",
       "      <td>0.0</td>\n",
       "      <td>1.0</td>\n",
       "      <td>0.0</td>\n",
       "      <td>0.0</td>\n",
       "      <td>0.0</td>\n",
       "      <td>1.0</td>\n",
       "      <td>0.0</td>\n",
       "    </tr>\n",
       "    <tr>\n",
       "      <th>1</th>\n",
       "      <td>Ciudad Autónoma de Buenos Aires</td>\n",
       "      <td>Full-Time</td>\n",
       "      <td>Staff (planta permanente)</td>\n",
       "      <td>No</td>\n",
       "      <td>-0.801771</td>\n",
       "      <td>False</td>\n",
       "      <td>Junior</td>\n",
       "      <td>0.0</td>\n",
       "      <td>0.0</td>\n",
       "      <td>0.0</td>\n",
       "      <td>...</td>\n",
       "      <td>1.0</td>\n",
       "      <td>0.0</td>\n",
       "      <td>0.0</td>\n",
       "      <td>0.0</td>\n",
       "      <td>0.0</td>\n",
       "      <td>1.0</td>\n",
       "      <td>0.0</td>\n",
       "      <td>1.0</td>\n",
       "      <td>0.0</td>\n",
       "      <td>0.0</td>\n",
       "    </tr>\n",
       "    <tr>\n",
       "      <th>2</th>\n",
       "      <td>Ciudad Autónoma de Buenos Aires</td>\n",
       "      <td>Full-Time</td>\n",
       "      <td>Staff (planta permanente)</td>\n",
       "      <td>No</td>\n",
       "      <td>-1.565618</td>\n",
       "      <td>False</td>\n",
       "      <td>Junior</td>\n",
       "      <td>0.0</td>\n",
       "      <td>0.0</td>\n",
       "      <td>0.0</td>\n",
       "      <td>...</td>\n",
       "      <td>1.0</td>\n",
       "      <td>0.0</td>\n",
       "      <td>0.0</td>\n",
       "      <td>0.0</td>\n",
       "      <td>0.0</td>\n",
       "      <td>1.0</td>\n",
       "      <td>0.0</td>\n",
       "      <td>1.0</td>\n",
       "      <td>0.0</td>\n",
       "      <td>0.0</td>\n",
       "    </tr>\n",
       "    <tr>\n",
       "      <th>3</th>\n",
       "      <td>Ciudad Autónoma de Buenos Aires</td>\n",
       "      <td>Full-Time</td>\n",
       "      <td>Staff (planta permanente)</td>\n",
       "      <td>Un sueldo</td>\n",
       "      <td>-1.056386</td>\n",
       "      <td>False</td>\n",
       "      <td>Semi-Senior</td>\n",
       "      <td>0.0</td>\n",
       "      <td>0.0</td>\n",
       "      <td>0.0</td>\n",
       "      <td>...</td>\n",
       "      <td>1.0</td>\n",
       "      <td>0.0</td>\n",
       "      <td>0.0</td>\n",
       "      <td>0.0</td>\n",
       "      <td>0.0</td>\n",
       "      <td>0.0</td>\n",
       "      <td>1.0</td>\n",
       "      <td>0.0</td>\n",
       "      <td>1.0</td>\n",
       "      <td>0.0</td>\n",
       "    </tr>\n",
       "    <tr>\n",
       "      <th>4</th>\n",
       "      <td>Río Negro</td>\n",
       "      <td>Full-Time</td>\n",
       "      <td>Staff (planta permanente)</td>\n",
       "      <td>Un sueldo</td>\n",
       "      <td>-1.183694</td>\n",
       "      <td>True</td>\n",
       "      <td>Junior</td>\n",
       "      <td>0.0</td>\n",
       "      <td>0.0</td>\n",
       "      <td>0.0</td>\n",
       "      <td>...</td>\n",
       "      <td>1.0</td>\n",
       "      <td>0.0</td>\n",
       "      <td>0.0</td>\n",
       "      <td>0.0</td>\n",
       "      <td>0.0</td>\n",
       "      <td>0.0</td>\n",
       "      <td>1.0</td>\n",
       "      <td>1.0</td>\n",
       "      <td>0.0</td>\n",
       "      <td>0.0</td>\n",
       "    </tr>\n",
       "    <tr>\n",
       "      <th>...</th>\n",
       "      <td>...</td>\n",
       "      <td>...</td>\n",
       "      <td>...</td>\n",
       "      <td>...</td>\n",
       "      <td>...</td>\n",
       "      <td>...</td>\n",
       "      <td>...</td>\n",
       "      <td>...</td>\n",
       "      <td>...</td>\n",
       "      <td>...</td>\n",
       "      <td>...</td>\n",
       "      <td>...</td>\n",
       "      <td>...</td>\n",
       "      <td>...</td>\n",
       "      <td>...</td>\n",
       "      <td>...</td>\n",
       "      <td>...</td>\n",
       "      <td>...</td>\n",
       "      <td>...</td>\n",
       "      <td>...</td>\n",
       "      <td>...</td>\n",
       "    </tr>\n",
       "    <tr>\n",
       "      <th>5762</th>\n",
       "      <td>Ciudad Autónoma de Buenos Aires</td>\n",
       "      <td>Full-Time</td>\n",
       "      <td>Staff (planta permanente)</td>\n",
       "      <td>De uno a tres sueldos</td>\n",
       "      <td>0.725922</td>\n",
       "      <td>False</td>\n",
       "      <td>Senior</td>\n",
       "      <td>0.0</td>\n",
       "      <td>0.0</td>\n",
       "      <td>0.0</td>\n",
       "      <td>...</td>\n",
       "      <td>1.0</td>\n",
       "      <td>0.0</td>\n",
       "      <td>0.0</td>\n",
       "      <td>1.0</td>\n",
       "      <td>0.0</td>\n",
       "      <td>0.0</td>\n",
       "      <td>0.0</td>\n",
       "      <td>0.0</td>\n",
       "      <td>0.0</td>\n",
       "      <td>1.0</td>\n",
       "    </tr>\n",
       "    <tr>\n",
       "      <th>5763</th>\n",
       "      <td>Tucumán</td>\n",
       "      <td>Full-Time</td>\n",
       "      <td>Staff (planta permanente)</td>\n",
       "      <td>Un sueldo</td>\n",
       "      <td>0.853230</td>\n",
       "      <td>False</td>\n",
       "      <td>Senior</td>\n",
       "      <td>0.0</td>\n",
       "      <td>0.0</td>\n",
       "      <td>0.0</td>\n",
       "      <td>...</td>\n",
       "      <td>1.0</td>\n",
       "      <td>0.0</td>\n",
       "      <td>0.0</td>\n",
       "      <td>0.0</td>\n",
       "      <td>0.0</td>\n",
       "      <td>0.0</td>\n",
       "      <td>1.0</td>\n",
       "      <td>0.0</td>\n",
       "      <td>0.0</td>\n",
       "      <td>1.0</td>\n",
       "    </tr>\n",
       "    <tr>\n",
       "      <th>5764</th>\n",
       "      <td>Buenos Aires</td>\n",
       "      <td>Part-Time</td>\n",
       "      <td>Freelance</td>\n",
       "      <td>No</td>\n",
       "      <td>-1.565618</td>\n",
       "      <td>False</td>\n",
       "      <td>Senior</td>\n",
       "      <td>1.0</td>\n",
       "      <td>0.0</td>\n",
       "      <td>0.0</td>\n",
       "      <td>...</td>\n",
       "      <td>0.0</td>\n",
       "      <td>0.0</td>\n",
       "      <td>0.0</td>\n",
       "      <td>0.0</td>\n",
       "      <td>0.0</td>\n",
       "      <td>1.0</td>\n",
       "      <td>0.0</td>\n",
       "      <td>0.0</td>\n",
       "      <td>0.0</td>\n",
       "      <td>1.0</td>\n",
       "    </tr>\n",
       "    <tr>\n",
       "      <th>5765</th>\n",
       "      <td>Ciudad Autónoma de Buenos Aires</td>\n",
       "      <td>Full-Time</td>\n",
       "      <td>Staff (planta permanente)</td>\n",
       "      <td>No</td>\n",
       "      <td>-0.547155</td>\n",
       "      <td>False</td>\n",
       "      <td>Semi-Senior</td>\n",
       "      <td>0.0</td>\n",
       "      <td>0.0</td>\n",
       "      <td>0.0</td>\n",
       "      <td>...</td>\n",
       "      <td>1.0</td>\n",
       "      <td>0.0</td>\n",
       "      <td>0.0</td>\n",
       "      <td>0.0</td>\n",
       "      <td>0.0</td>\n",
       "      <td>1.0</td>\n",
       "      <td>0.0</td>\n",
       "      <td>0.0</td>\n",
       "      <td>1.0</td>\n",
       "      <td>0.0</td>\n",
       "    </tr>\n",
       "    <tr>\n",
       "      <th>5766</th>\n",
       "      <td>Ciudad Autónoma de Buenos Aires</td>\n",
       "      <td>Full-Time</td>\n",
       "      <td>Staff (planta permanente)</td>\n",
       "      <td>De uno a tres sueldos</td>\n",
       "      <td>-0.037924</td>\n",
       "      <td>False</td>\n",
       "      <td>Semi-Senior</td>\n",
       "      <td>0.0</td>\n",
       "      <td>0.0</td>\n",
       "      <td>0.0</td>\n",
       "      <td>...</td>\n",
       "      <td>1.0</td>\n",
       "      <td>0.0</td>\n",
       "      <td>0.0</td>\n",
       "      <td>1.0</td>\n",
       "      <td>0.0</td>\n",
       "      <td>0.0</td>\n",
       "      <td>0.0</td>\n",
       "      <td>0.0</td>\n",
       "      <td>1.0</td>\n",
       "      <td>0.0</td>\n",
       "    </tr>\n",
       "  </tbody>\n",
       "</table>\n",
       "<p>5747 rows × 46 columns</p>\n",
       "</div>"
      ],
      "text/plain": [
       "               donde_estas_trabajando dedicacion           tipo_de_contrato  \\\n",
       "0                        Buenos Aires  Full-Time  Staff (planta permanente)   \n",
       "1     Ciudad Autónoma de Buenos Aires  Full-Time  Staff (planta permanente)   \n",
       "2     Ciudad Autónoma de Buenos Aires  Full-Time  Staff (planta permanente)   \n",
       "3     Ciudad Autónoma de Buenos Aires  Full-Time  Staff (planta permanente)   \n",
       "4                           Río Negro  Full-Time  Staff (planta permanente)   \n",
       "...                               ...        ...                        ...   \n",
       "5762  Ciudad Autónoma de Buenos Aires  Full-Time  Staff (planta permanente)   \n",
       "5763                          Tucumán  Full-Time  Staff (planta permanente)   \n",
       "5764                     Buenos Aires  Part-Time                  Freelance   \n",
       "5765  Ciudad Autónoma de Buenos Aires  Full-Time  Staff (planta permanente)   \n",
       "5766  Ciudad Autónoma de Buenos Aires  Full-Time  Staff (planta permanente)   \n",
       "\n",
       "     recibis_algun_tipo_de_bono  tengo_edad  sueldo_dolarizado    seniority  \\\n",
       "0            Menos de un sueldo   -1.056386              False  Semi-Senior   \n",
       "1                            No   -0.801771              False       Junior   \n",
       "2                            No   -1.565618              False       Junior   \n",
       "3                     Un sueldo   -1.056386              False  Semi-Senior   \n",
       "4                     Un sueldo   -1.183694               True       Junior   \n",
       "...                         ...         ...                ...          ...   \n",
       "5762      De uno a tres sueldos    0.725922              False       Senior   \n",
       "5763                  Un sueldo    0.853230              False       Senior   \n",
       "5764                         No   -1.565618              False       Senior   \n",
       "5765                         No   -0.547155              False  Semi-Senior   \n",
       "5766      De uno a tres sueldos   -0.037924              False  Semi-Senior   \n",
       "\n",
       "      donde_estas_trabajando_Buenos Aires  donde_estas_trabajando_Catamarca  \\\n",
       "0                                     1.0                               0.0   \n",
       "1                                     0.0                               0.0   \n",
       "2                                     0.0                               0.0   \n",
       "3                                     0.0                               0.0   \n",
       "4                                     0.0                               0.0   \n",
       "...                                   ...                               ...   \n",
       "5762                                  0.0                               0.0   \n",
       "5763                                  0.0                               0.0   \n",
       "5764                                  1.0                               0.0   \n",
       "5765                                  0.0                               0.0   \n",
       "5766                                  0.0                               0.0   \n",
       "\n",
       "      donde_estas_trabajando_Chaco  ...  \\\n",
       "0                              0.0  ...   \n",
       "1                              0.0  ...   \n",
       "2                              0.0  ...   \n",
       "3                              0.0  ...   \n",
       "4                              0.0  ...   \n",
       "...                            ...  ...   \n",
       "5762                           0.0  ...   \n",
       "5763                           0.0  ...   \n",
       "5764                           0.0  ...   \n",
       "5765                           0.0  ...   \n",
       "5766                           0.0  ...   \n",
       "\n",
       "      tipo_de_contrato_Staff (planta permanente)  \\\n",
       "0                                            1.0   \n",
       "1                                            1.0   \n",
       "2                                            1.0   \n",
       "3                                            1.0   \n",
       "4                                            1.0   \n",
       "...                                          ...   \n",
       "5762                                         1.0   \n",
       "5763                                         1.0   \n",
       "5764                                         0.0   \n",
       "5765                                         1.0   \n",
       "5766                                         1.0   \n",
       "\n",
       "      tipo_de_contrato_Tercerizado (trabajo a través de consultora o agencia)  \\\n",
       "0                                                   0.0                         \n",
       "1                                                   0.0                         \n",
       "2                                                   0.0                         \n",
       "3                                                   0.0                         \n",
       "4                                                   0.0                         \n",
       "...                                                 ...                         \n",
       "5762                                                0.0                         \n",
       "5763                                                0.0                         \n",
       "5764                                                0.0                         \n",
       "5765                                                0.0                         \n",
       "5766                                                0.0                         \n",
       "\n",
       "      recibis_algun_tipo_de_bono_3+ sueldos  \\\n",
       "0                                       0.0   \n",
       "1                                       0.0   \n",
       "2                                       0.0   \n",
       "3                                       0.0   \n",
       "4                                       0.0   \n",
       "...                                     ...   \n",
       "5762                                    0.0   \n",
       "5763                                    0.0   \n",
       "5764                                    0.0   \n",
       "5765                                    0.0   \n",
       "5766                                    0.0   \n",
       "\n",
       "      recibis_algun_tipo_de_bono_De uno a tres sueldos  \\\n",
       "0                                                  0.0   \n",
       "1                                                  0.0   \n",
       "2                                                  0.0   \n",
       "3                                                  0.0   \n",
       "4                                                  0.0   \n",
       "...                                                ...   \n",
       "5762                                               1.0   \n",
       "5763                                               0.0   \n",
       "5764                                               0.0   \n",
       "5765                                               0.0   \n",
       "5766                                               1.0   \n",
       "\n",
       "      recibis_algun_tipo_de_bono_Menos de un sueldo  \\\n",
       "0                                               1.0   \n",
       "1                                               0.0   \n",
       "2                                               0.0   \n",
       "3                                               0.0   \n",
       "4                                               0.0   \n",
       "...                                             ...   \n",
       "5762                                            0.0   \n",
       "5763                                            0.0   \n",
       "5764                                            0.0   \n",
       "5765                                            0.0   \n",
       "5766                                            0.0   \n",
       "\n",
       "      recibis_algun_tipo_de_bono_No  recibis_algun_tipo_de_bono_Un sueldo  \\\n",
       "0                               0.0                                   0.0   \n",
       "1                               1.0                                   0.0   \n",
       "2                               1.0                                   0.0   \n",
       "3                               0.0                                   1.0   \n",
       "4                               0.0                                   1.0   \n",
       "...                             ...                                   ...   \n",
       "5762                            0.0                                   0.0   \n",
       "5763                            0.0                                   1.0   \n",
       "5764                            1.0                                   0.0   \n",
       "5765                            1.0                                   0.0   \n",
       "5766                            0.0                                   0.0   \n",
       "\n",
       "      seniority_Junior  seniority_Semi-Senior  seniority_Senior  \n",
       "0                  0.0                    1.0               0.0  \n",
       "1                  1.0                    0.0               0.0  \n",
       "2                  1.0                    0.0               0.0  \n",
       "3                  0.0                    1.0               0.0  \n",
       "4                  1.0                    0.0               0.0  \n",
       "...                ...                    ...               ...  \n",
       "5762               0.0                    0.0               1.0  \n",
       "5763               0.0                    0.0               1.0  \n",
       "5764               0.0                    0.0               1.0  \n",
       "5765               0.0                    1.0               0.0  \n",
       "5766               0.0                    1.0               0.0  \n",
       "\n",
       "[5747 rows x 46 columns]"
      ]
     },
     "execution_count": 208,
     "metadata": {},
     "output_type": "execute_result"
    }
   ],
   "source": [
    "inputs_df"
   ]
  },
  {
   "cell_type": "markdown",
   "id": "a86f3f97-be61-4707-b500-c670d10f85aa",
   "metadata": {
    "tags": []
   },
   "source": [
    "## Train split"
   ]
  },
  {
   "cell_type": "code",
   "execution_count": 209,
   "id": "b330a712-4031-490b-90d6-bccaf39d8c22",
   "metadata": {
    "tags": []
   },
   "outputs": [],
   "source": [
    "train_inputs, val_inputs, train_targets, val_targets = train_test_split(\n",
    "    inputs_df[numeric_cols + encoded_cols], targets, test_size=0.25, random_state=42)"
   ]
  },
  {
   "cell_type": "markdown",
   "id": "aacb8fdd-4fd3-4a61-87c8-8545dbff9787",
   "metadata": {},
   "source": [
    "# Data processing"
   ]
  },
  {
   "cell_type": "code",
   "execution_count": 212,
   "id": "bfe75705-ed97-4654-add7-d8bbf1371d2d",
   "metadata": {
    "tags": []
   },
   "outputs": [],
   "source": [
    "tree = DecisionTreeRegressor()"
   ]
  },
  {
   "cell_type": "code",
   "execution_count": 215,
   "id": "920f2561-53b2-425d-91e6-a61882f3108b",
   "metadata": {
    "tags": []
   },
   "outputs": [
    {
     "data": {
      "text/html": [
       "<style>#sk-container-id-4 {color: black;}#sk-container-id-4 pre{padding: 0;}#sk-container-id-4 div.sk-toggleable {background-color: white;}#sk-container-id-4 label.sk-toggleable__label {cursor: pointer;display: block;width: 100%;margin-bottom: 0;padding: 0.3em;box-sizing: border-box;text-align: center;}#sk-container-id-4 label.sk-toggleable__label-arrow:before {content: \"▸\";float: left;margin-right: 0.25em;color: #696969;}#sk-container-id-4 label.sk-toggleable__label-arrow:hover:before {color: black;}#sk-container-id-4 div.sk-estimator:hover label.sk-toggleable__label-arrow:before {color: black;}#sk-container-id-4 div.sk-toggleable__content {max-height: 0;max-width: 0;overflow: hidden;text-align: left;background-color: #f0f8ff;}#sk-container-id-4 div.sk-toggleable__content pre {margin: 0.2em;color: black;border-radius: 0.25em;background-color: #f0f8ff;}#sk-container-id-4 input.sk-toggleable__control:checked~div.sk-toggleable__content {max-height: 200px;max-width: 100%;overflow: auto;}#sk-container-id-4 input.sk-toggleable__control:checked~label.sk-toggleable__label-arrow:before {content: \"▾\";}#sk-container-id-4 div.sk-estimator input.sk-toggleable__control:checked~label.sk-toggleable__label {background-color: #d4ebff;}#sk-container-id-4 div.sk-label input.sk-toggleable__control:checked~label.sk-toggleable__label {background-color: #d4ebff;}#sk-container-id-4 input.sk-hidden--visually {border: 0;clip: rect(1px 1px 1px 1px);clip: rect(1px, 1px, 1px, 1px);height: 1px;margin: -1px;overflow: hidden;padding: 0;position: absolute;width: 1px;}#sk-container-id-4 div.sk-estimator {font-family: monospace;background-color: #f0f8ff;border: 1px dotted black;border-radius: 0.25em;box-sizing: border-box;margin-bottom: 0.5em;}#sk-container-id-4 div.sk-estimator:hover {background-color: #d4ebff;}#sk-container-id-4 div.sk-parallel-item::after {content: \"\";width: 100%;border-bottom: 1px solid gray;flex-grow: 1;}#sk-container-id-4 div.sk-label:hover label.sk-toggleable__label {background-color: #d4ebff;}#sk-container-id-4 div.sk-serial::before {content: \"\";position: absolute;border-left: 1px solid gray;box-sizing: border-box;top: 0;bottom: 0;left: 50%;z-index: 0;}#sk-container-id-4 div.sk-serial {display: flex;flex-direction: column;align-items: center;background-color: white;padding-right: 0.2em;padding-left: 0.2em;position: relative;}#sk-container-id-4 div.sk-item {position: relative;z-index: 1;}#sk-container-id-4 div.sk-parallel {display: flex;align-items: stretch;justify-content: center;background-color: white;position: relative;}#sk-container-id-4 div.sk-item::before, #sk-container-id-4 div.sk-parallel-item::before {content: \"\";position: absolute;border-left: 1px solid gray;box-sizing: border-box;top: 0;bottom: 0;left: 50%;z-index: -1;}#sk-container-id-4 div.sk-parallel-item {display: flex;flex-direction: column;z-index: 1;position: relative;background-color: white;}#sk-container-id-4 div.sk-parallel-item:first-child::after {align-self: flex-end;width: 50%;}#sk-container-id-4 div.sk-parallel-item:last-child::after {align-self: flex-start;width: 50%;}#sk-container-id-4 div.sk-parallel-item:only-child::after {width: 0;}#sk-container-id-4 div.sk-dashed-wrapped {border: 1px dashed gray;margin: 0 0.4em 0.5em 0.4em;box-sizing: border-box;padding-bottom: 0.4em;background-color: white;}#sk-container-id-4 div.sk-label label {font-family: monospace;font-weight: bold;display: inline-block;line-height: 1.2em;}#sk-container-id-4 div.sk-label-container {text-align: center;}#sk-container-id-4 div.sk-container {/* jupyter's `normalize.less` sets `[hidden] { display: none; }` but bootstrap.min.css set `[hidden] { display: none !important; }` so we also need the `!important` here to be able to override the default hidden behavior on the sphinx rendered scikit-learn.org. See: https://github.com/scikit-learn/scikit-learn/issues/21755 */display: inline-block !important;position: relative;}#sk-container-id-4 div.sk-text-repr-fallback {display: none;}</style><div id=\"sk-container-id-4\" class=\"sk-top-container\"><div class=\"sk-text-repr-fallback\"><pre>DecisionTreeRegressor()</pre><b>In a Jupyter environment, please rerun this cell to show the HTML representation or trust the notebook. <br />On GitHub, the HTML representation is unable to render, please try loading this page with nbviewer.org.</b></div><div class=\"sk-container\" hidden><div class=\"sk-item\"><div class=\"sk-estimator sk-toggleable\"><input class=\"sk-toggleable__control sk-hidden--visually\" id=\"sk-estimator-id-4\" type=\"checkbox\" checked><label for=\"sk-estimator-id-4\" class=\"sk-toggleable__label sk-toggleable__label-arrow\">DecisionTreeRegressor</label><div class=\"sk-toggleable__content\"><pre>DecisionTreeRegressor()</pre></div></div></div></div></div>"
      ],
      "text/plain": [
       "DecisionTreeRegressor()"
      ]
     },
     "execution_count": 215,
     "metadata": {},
     "output_type": "execute_result"
    }
   ],
   "source": [
    "tree.fit(train_inputs, train_targets)"
   ]
  },
  {
   "cell_type": "code",
   "execution_count": 216,
   "id": "6974bf4c-34cd-4c12-bf77-6d8ddb1c2979",
   "metadata": {
    "tags": []
   },
   "outputs": [],
   "source": [
    "tree_train_preds = tree.predict(train_inputs)"
   ]
  },
  {
   "cell_type": "code",
   "execution_count": 219,
   "id": "d7b09e58-48a3-4911-ac39-d6587c786bd2",
   "metadata": {
    "tags": []
   },
   "outputs": [
    {
     "data": {
      "text/plain": [
       "169220.96895450636"
      ]
     },
     "execution_count": 219,
     "metadata": {},
     "output_type": "execute_result"
    }
   ],
   "source": [
    "tree_train_rmse = mean_squared_error(tree_train_preds, train_targets, squared=False)\n",
    "tree_train_rmse"
   ]
  },
  {
   "cell_type": "code",
   "execution_count": 221,
   "id": "9c616875-6350-409e-b770-46f81d52c86d",
   "metadata": {
    "tags": []
   },
   "outputs": [],
   "source": [
    "dummy = np.full(len(train_targets), targets.mean())"
   ]
  },
  {
   "cell_type": "code",
   "execution_count": 222,
   "id": "c4d5020d-ba5e-47a6-a633-22db4bd126e7",
   "metadata": {
    "tags": []
   },
   "outputs": [
    {
     "data": {
      "text/plain": [
       "299535.26367575506"
      ]
     },
     "execution_count": 222,
     "metadata": {},
     "output_type": "execute_result"
    }
   ],
   "source": [
    "dummy_rmse = mean_squared_error(dummy, train_targets, squared=False)\n",
    "dummy_rmse"
   ]
  }
 ],
 "metadata": {
  "kernelspec": {
   "display_name": "Python 3 (ipykernel)",
   "language": "python",
   "name": "python3"
  },
  "language_info": {
   "codemirror_mode": {
    "name": "ipython",
    "version": 3
   },
   "file_extension": ".py",
   "mimetype": "text/x-python",
   "name": "python",
   "nbconvert_exporter": "python",
   "pygments_lexer": "ipython3",
   "version": "3.10.11"
  }
 },
 "nbformat": 4,
 "nbformat_minor": 5
}
