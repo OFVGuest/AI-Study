{
 "cells": [
  {
   "cell_type": "code",
   "execution_count": 1,
   "id": "ecbe98f8-8e97-42dc-8d11-1688e6e52473",
   "metadata": {},
   "outputs": [],
   "source": [
    "import tensorflow as tf\n",
    "from tensorflow.keras import layers, models\n",
    "import pathlib\n",
    "from tensorflow.keras.preprocessing.image import ImageDataGenerator\n",
    "import matplotlib.pyplot as plt"
   ]
  },
  {
   "cell_type": "code",
   "execution_count": 2,
   "id": "bc1d4815-e876-44c3-9094-aec90aecd11c",
   "metadata": {},
   "outputs": [],
   "source": [
    "class ninBlock(tf.keras.layers.Layer):\n",
    "    def __init__(self, kernel_size):\n",
    "        super().__init__()\n",
    "        self.conv = layers.Conv2D(32, kernel_size=kernel_size)\n",
    "        self.conv2 = layers.Conv2D(32, kernel_size=1)\n",
    "        self.conv3 = layers.Conv2D(32, kernel_size=1)\n",
    "\n",
    "    def call(self, tensor, training=True):\n",
    "        out = tf.nn.relu(self.conv(tensor))\n",
    "        out = self.conv2(out)\n",
    "        out = self.conv3(out)\n",
    "        return out"
   ]
  },
  {
   "cell_type": "code",
   "execution_count": 3,
   "id": "50a368ad-eac5-4726-bd75-a7f6e6a624ca",
   "metadata": {},
   "outputs": [],
   "source": [
    "parameters = [\n",
    "    ninBlock((3,3)),\n",
    "    layers.MaxPooling2D((2,2)),\n",
    "    ninBlock((3,3)),\n",
    "    layers.MaxPooling2D((2,2)),\n",
    "    layers.Flatten(),\n",
    "    layers.Dense(10, activation='softmax')\n",
    "]"
   ]
  },
  {
   "cell_type": "code",
   "execution_count": 4,
   "id": "01595257-b3fc-45ea-849c-a9b63e0f6a1d",
   "metadata": {},
   "outputs": [],
   "source": [
    "model = tf.keras.Sequential(parameters)"
   ]
  },
  {
   "cell_type": "code",
   "execution_count": 5,
   "id": "247eaa6b-8534-4362-a306-2b73f6d030c8",
   "metadata": {},
   "outputs": [],
   "source": [
    "model.build(input_shape=(1, 28, 28, 1))"
   ]
  },
  {
   "cell_type": "code",
   "execution_count": 6,
   "id": "5f8287d1-efc0-4897-84ce-eea81d6d3e00",
   "metadata": {},
   "outputs": [],
   "source": [
    "model.compile(optimizer='adam', loss='sparse_categorical_crossentropy', metrics=['accuracy'])"
   ]
  },
  {
   "cell_type": "code",
   "execution_count": 7,
   "id": "a21f9566-6ad1-4d97-817e-dc867231d7ff",
   "metadata": {},
   "outputs": [
    {
     "name": "stdout",
     "output_type": "stream",
     "text": [
      "Model: \"sequential\"\n",
      "_________________________________________________________________\n",
      " Layer (type)                Output Shape              Param #   \n",
      "=================================================================\n",
      " nin_block (ninBlock)        (1, 26, 26, 32)           2432      \n",
      "                                                                 \n",
      " max_pooling2d (MaxPooling2D  (1, 13, 13, 32)          0         \n",
      " )                                                               \n",
      "                                                                 \n",
      " nin_block_1 (ninBlock)      (1, 11, 11, 32)           11360     \n",
      "                                                                 \n",
      " max_pooling2d_1 (MaxPooling  (1, 5, 5, 32)            0         \n",
      " 2D)                                                             \n",
      "                                                                 \n",
      " flatten (Flatten)           (1, 800)                  0         \n",
      "                                                                 \n",
      " dense (Dense)               (1, 10)                   8010      \n",
      "                                                                 \n",
      "=================================================================\n",
      "Total params: 21,802\n",
      "Trainable params: 21,802\n",
      "Non-trainable params: 0\n",
      "_________________________________________________________________\n"
     ]
    }
   ],
   "source": [
    "model.summary()"
   ]
  },
  {
   "cell_type": "code",
   "execution_count": 8,
   "id": "1b0b60a0-6253-437a-bae3-cb3fd1291089",
   "metadata": {},
   "outputs": [],
   "source": [
    "from tensorflow.keras.datasets import mnist\n",
    "(train_images, train_labels), (test_images, test_labels) = mnist.load_data()\n",
    "train_images, test_images = train_images / 255.0, test_images / 255.0"
   ]
  },
  {
   "cell_type": "code",
   "execution_count": 9,
   "id": "3f7acc45-af15-47cf-bdc7-763ed6616d23",
   "metadata": {},
   "outputs": [],
   "source": [
    "train_images = train_images[..., tf.newaxis]\n",
    "test_images = test_images[..., tf.newaxis]"
   ]
  },
  {
   "cell_type": "code",
   "execution_count": 10,
   "id": "5c8b9d75-ae8a-4090-ab74-0a0eeba3e2e0",
   "metadata": {},
   "outputs": [
    {
     "data": {
      "text/plain": [
       "(60000, 28, 28, 1)"
      ]
     },
     "execution_count": 10,
     "metadata": {},
     "output_type": "execute_result"
    }
   ],
   "source": [
    "train_images.shape"
   ]
  },
  {
   "cell_type": "code",
   "execution_count": 11,
   "id": "f3720b67-7264-4cbe-81e2-b6e877d396ea",
   "metadata": {},
   "outputs": [
    {
     "name": "stdout",
     "output_type": "stream",
     "text": [
      "Epoch 1/5\n",
      "938/938 [==============================] - 18s 6ms/step - loss: 0.2078 - accuracy: 0.9376 - val_loss: 0.0798 - val_accuracy: 0.9734\n",
      "Epoch 2/5\n",
      "938/938 [==============================] - 5s 5ms/step - loss: 0.0698 - accuracy: 0.9779 - val_loss: 0.0577 - val_accuracy: 0.9803\n",
      "Epoch 3/5\n",
      "938/938 [==============================] - 5s 5ms/step - loss: 0.0511 - accuracy: 0.9841 - val_loss: 0.0433 - val_accuracy: 0.9853\n",
      "Epoch 4/5\n",
      "938/938 [==============================] - 5s 5ms/step - loss: 0.0412 - accuracy: 0.9871 - val_loss: 0.0393 - val_accuracy: 0.9877\n",
      "Epoch 5/5\n",
      "938/938 [==============================] - 5s 6ms/step - loss: 0.0350 - accuracy: 0.9892 - val_loss: 0.0356 - val_accuracy: 0.9885\n"
     ]
    },
    {
     "data": {
      "text/plain": [
       "<keras.callbacks.History at 0x1f50004dd00>"
      ]
     },
     "execution_count": 11,
     "metadata": {},
     "output_type": "execute_result"
    }
   ],
   "source": [
    "model.fit(train_images, train_labels, epochs=5, batch_size=64, validation_data=(test_images, test_labels))"
   ]
  },
  {
   "cell_type": "code",
   "execution_count": 26,
   "id": "b4f3c32f-6548-412d-8f21-986aedea656b",
   "metadata": {},
   "outputs": [],
   "source": [
    "(train_images, train_labels), (test_images, test_labels) = mnist.load_data()\n",
    "train_images, test_images = train_images / 255.0, test_images / 255.0"
   ]
  },
  {
   "cell_type": "code",
   "execution_count": 13,
   "id": "b5b966f3-7ce4-4d6b-ba4f-ed5a3221cb60",
   "metadata": {},
   "outputs": [],
   "source": [
    "with tf.device('/device:CPU:0'):\n",
    "    train_images_resized = tf.image.resize(train_images[..., tf.newaxis], [224, 224])\n",
    "    test_images_resized = tf.image.resize(test_images[..., tf.newaxis], [224, 224])"
   ]
  },
  {
   "cell_type": "code",
   "execution_count": 14,
   "id": "11ff4c0a-dd0e-4a1e-a55d-cd6bbf466d1d",
   "metadata": {},
   "outputs": [],
   "source": [
    "train_numpy = train_images_resized.numpy()"
   ]
  },
  {
   "cell_type": "code",
   "execution_count": 28,
   "id": "68b8fc25-17aa-4c33-818a-c940bb6aa990",
   "metadata": {},
   "outputs": [
    {
     "name": "stdout",
     "output_type": "stream",
     "text": [
      "1\n"
     ]
    },
    {
     "data": {
      "image/png": "[encoded data removed]",
      "text/plain": [
       "<Figure size 640x480 with 1 Axes>"
      ]
     },
     "metadata": {},
     "output_type": "display_data"
    }
   ],
   "source": [
    "plt.imshow(train_numpy[3])\n",
    "print(train_labels[3])"
   ]
  },
  {
   "cell_type": "code",
   "execution_count": 69,
   "id": "097eca75-8c2b-49c3-afe5-f8b7bf72fba3",
   "metadata": {},
   "outputs": [
    {
     "name": "stdout",
     "output_type": "stream",
     "text": [
      "Model: \"sequential_12\"\n",
      "_________________________________________________________________\n",
      " Layer (type)                Output Shape              Param #   \n",
      "=================================================================\n",
      " nin_block_26 (NinBlock)     (1, 54, 54, 96)           30336     \n",
      "                                                                 \n",
      " max_pooling2d_25 (MaxPoolin  (1, 26, 26, 96)          0         \n",
      " g2D)                                                            \n",
      "                                                                 \n",
      " nin_block_27 (NinBlock)     (1, 26, 26, 256)          746240    \n",
      "                                                                 \n",
      " max_pooling2d_26 (MaxPoolin  (1, 13, 13, 256)         0         \n",
      " g2D)                                                            \n",
      "                                                                 \n",
      " nin_block_28 (NinBlock)     (1, 13, 13, 384)          1180800   \n",
      "                                                                 \n",
      " max_pooling2d_27 (MaxPoolin  (1, 7, 7, 384)           0         \n",
      " g2D)                                                            \n",
      "                                                                 \n",
      " flatten_12 (Flatten)        (1, 18816)                0         \n",
      "                                                                 \n",
      " dense_12 (Dense)            (1, 10)                   188170    \n",
      "                                                                 \n",
      "=================================================================\n",
      "Total params: 2,145,546\n",
      "Trainable params: 2,145,546\n",
      "Non-trainable params: 0\n",
      "_________________________________________________________________\n"
     ]
    }
   ],
   "source": [
    "import tensorflow as tf\n",
    "from tensorflow.keras import layers, models\n",
    "\n",
    "class NinBlock(tf.keras.layers.Layer):\n",
    "    def __init__(self, out_channels: int, kernel_size: tuple, strides=1, padding='valid'):\n",
    "        super().__init__()\n",
    "        self.conv = layers.Conv2D(out_channels, kernel_size=kernel_size, strides=strides, padding=padding)\n",
    "        self.conv2 = layers.Conv2D(out_channels, kernel_size=1)\n",
    "        self.conv3 = layers.Conv2D(out_channels, kernel_size=1)\n",
    "\n",
    "    def call(self, tensor, training=True):\n",
    "        out = self.conv(tensor)\n",
    "        out = self.conv2(out)\n",
    "        out = self.conv3(out)\n",
    "        return out\n",
    "\n",
    "\n",
    "model = tf.keras.Sequential([\n",
    "    NinBlock(out_channels=96, kernel_size=(11, 11), strides=4),\n",
    "    layers.MaxPooling2D((3, 3), strides=2, padding='valid'),\n",
    "    NinBlock(out_channels=256, kernel_size=(5, 5), padding='same'),\n",
    "    layers.MaxPooling2D((3, 3), strides=2, padding='same'),\n",
    "    NinBlock(out_channels=384, kernel_size=(3, 3), padding='same'),\n",
    "    layers.MaxPooling2D((3, 3), strides=2, padding='same'),\n",
    "    layers.Flatten(),\n",
    "    layers.Dense(10, activation='softmax')\n",
    "])\n",
    "\n",
    "model.compile(optimizer='adam', loss='sparse_categorical_crossentropy', metrics=['accuracy'])\n",
    "model.build(input_shape=(1, 224, 224, 1))\n",
    "model.summary()"
   ]
  },
  {
   "cell_type": "code",
   "execution_count": 70,
   "id": "790a7f57-8f3f-4f00-a2ac-5201ba34e3d9",
   "metadata": {},
   "outputs": [
    {
     "name": "stdout",
     "output_type": "stream",
     "text": [
      "Epoch 1/5\n",
      "938/938 [==============================] - 88s 89ms/step - loss: 29.1655 - accuracy: 0.8932 - val_loss: 0.6695 - val_accuracy: 0.9289\n",
      "Epoch 2/5\n",
      "938/938 [==============================] - 82s 88ms/step - loss: 0.2322 - accuracy: 0.9591 - val_loss: 0.1410 - val_accuracy: 0.9643\n",
      "Epoch 3/5\n",
      "938/938 [==============================] - 82s 88ms/step - loss: 0.1036 - accuracy: 0.9719 - val_loss: 0.0734 - val_accuracy: 0.9778\n",
      "Epoch 4/5\n",
      "938/938 [==============================] - 83s 89ms/step - loss: 0.0813 - accuracy: 0.9775 - val_loss: 0.0573 - val_accuracy: 0.9828\n",
      "Epoch 5/5\n",
      "938/938 [==============================] - 83s 89ms/step - loss: 0.0633 - accuracy: 0.9815 - val_loss: 0.0468 - val_accuracy: 0.9839\n"
     ]
    },
    {
     "data": {
      "text/plain": [
       "<keras.callbacks.History at 0x1f7085e9670>"
      ]
     },
     "execution_count": 70,
     "metadata": {},
     "output_type": "execute_result"
    }
   ],
   "source": [
    "model.fit(train_images_resized, train_labels, epochs=5, batch_size=64, validation_data=(test_images_resized, test_labels))"
   ]
  },
  {
   "cell_type": "code",
   "execution_count": 74,
   "id": "3a91e7cf-f664-4a40-a9e5-4ae6e43202ea",
   "metadata": {},
   "outputs": [
    {
     "name": "stdout",
     "output_type": "stream",
     "text": [
      "Model: \"sequential_14\"\n",
      "_________________________________________________________________\n",
      " Layer (type)                Output Shape              Param #   \n",
      "=================================================================\n",
      " nin_block_33 (NinBlock)     (1, 54, 54, 96)           30336     \n",
      "                                                                 \n",
      " max_pooling2d_31 (MaxPoolin  (1, 26, 26, 96)          0         \n",
      " g2D)                                                            \n",
      "                                                                 \n",
      " nin_block_34 (NinBlock)     (1, 26, 26, 256)          746240    \n",
      "                                                                 \n",
      " max_pooling2d_32 (MaxPoolin  (1, 13, 13, 256)         0         \n",
      " g2D)                                                            \n",
      "                                                                 \n",
      " nin_block_35 (NinBlock)     (1, 13, 13, 384)          1180800   \n",
      "                                                                 \n",
      " max_pooling2d_33 (MaxPoolin  (1, 7, 7, 384)           0         \n",
      " g2D)                                                            \n",
      "                                                                 \n",
      " nin_block_36 (NinBlock)     (1, 7, 7, 10)             34790     \n",
      "                                                                 \n",
      " average_pooling2d_1 (Averag  (1, 7, 7, 10)            0         \n",
      " ePooling2D)                                                     \n",
      "                                                                 \n",
      " flatten_14 (Flatten)        (1, 490)                  0         \n",
      "                                                                 \n",
      " dense_13 (Dense)            (1, 10)                   4910      \n",
      "                                                                 \n",
      "=================================================================\n",
      "Total params: 1,997,076\n",
      "Trainable params: 1,997,076\n",
      "Non-trainable params: 0\n",
      "_________________________________________________________________\n"
     ]
    }
   ],
   "source": [
    "model = tf.keras.Sequential([\n",
    "    NinBlock(out_channels=96, kernel_size=(11, 11), strides=4),\n",
    "    layers.MaxPooling2D((3, 3), strides=2, padding='valid'),\n",
    "    NinBlock(out_channels=256, kernel_size=(5, 5), padding='same'),\n",
    "    layers.MaxPooling2D((3, 3), strides=2, padding='same'),\n",
    "    NinBlock(out_channels=384, kernel_size=(3, 3), padding='same'),\n",
    "    layers.MaxPooling2D((3, 3), strides=2, padding='same'),\n",
    "    NinBlock(out_channels=10, kernel_size=(3, 3), padding='same'),\n",
    "    layers.AveragePooling2D((1, 1)),\n",
    "    layers.Flatten(),\n",
    "    layers.Dense(10, activation='softmax')\n",
    "])\n",
    "\n",
    "model.compile(optimizer='adam', loss='sparse_categorical_crossentropy', metrics=['accuracy'])\n",
    "model.build(input_shape=(1, 224, 224, 1))\n",
    "model.summary()"
   ]
  },
  {
   "cell_type": "code",
   "execution_count": 75,
   "id": "c38c9add-cb20-4f42-acf4-9706d15c3ef1",
   "metadata": {},
   "outputs": [
    {
     "name": "stdout",
     "output_type": "stream",
     "text": [
      "Epoch 1/5\n",
      "938/938 [==============================] - 87s 91ms/step - loss: 0.2082 - accuracy: 0.9370 - val_loss: 0.0964 - val_accuracy: 0.9721\n",
      "Epoch 2/5\n",
      "938/938 [==============================] - 85s 91ms/step - loss: 0.1011 - accuracy: 0.9710 - val_loss: 0.1050 - val_accuracy: 0.9675\n",
      "Epoch 3/5\n",
      "938/938 [==============================] - 85s 91ms/step - loss: 0.0822 - accuracy: 0.9765 - val_loss: 0.0484 - val_accuracy: 0.9853\n",
      "Epoch 4/5\n",
      "938/938 [==============================] - 86s 91ms/step - loss: 0.0734 - accuracy: 0.9785 - val_loss: 0.0603 - val_accuracy: 0.9807\n",
      "Epoch 5/5\n",
      "938/938 [==============================] - 85s 91ms/step - loss: 0.0648 - accuracy: 0.9808 - val_loss: 0.0707 - val_accuracy: 0.9784\n"
     ]
    },
    {
     "data": {
      "text/plain": [
       "<keras.callbacks.History at 0x1f70a003e20>"
      ]
     },
     "execution_count": 75,
     "metadata": {},
     "output_type": "execute_result"
    }
   ],
   "source": [
    "model.fit(train_images_resized, train_labels, epochs=5, batch_size=64, validation_data=(test_images_resized, test_labels))"
   ]
  }
 ],
 "metadata": {
  "kernelspec": {
   "display_name": "Python 3 (ipykernel)",
   "language": "python",
   "name": "python3"
  },
  "language_info": {
   "codemirror_mode": {
    "name": "ipython",
    "version": 3
   },
   "file_extension": ".py",
   "mimetype": "text/x-python",
   "name": "python",
   "nbconvert_exporter": "python",
   "pygments_lexer": "ipython3",
   "version": "3.9.18"
  }
 },
 "nbformat": 4,
 "nbformat_minor": 5
}
