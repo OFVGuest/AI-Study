{
 "cells": [
  {
   "cell_type": "code",
   "execution_count": 1,
   "id": "86d1502b-3324-4b7f-9ff0-3f07ed0b8dbe",
   "metadata": {},
   "outputs": [],
   "source": [
    "import tensorflow as tf"
   ]
  },
  {
   "cell_type": "code",
   "execution_count": 2,
   "id": "7bb49b29-0ede-4984-b97a-4de8ce020c9a",
   "metadata": {},
   "outputs": [],
   "source": [
    "def inception(inputs, filter1, filter3r, filter3, filter5r, filter5, maxPool):\n",
    "    c1 = tf.keras.layers.Conv2D(filter1, (1, 1), padding='same', activation='relu')(inputs)\n",
    "    \n",
    "    c2 = tf.keras.layers.Conv2D(filter3r, (1, 1), padding='same', activation='relu')(inputs)\n",
    "    c2 = tf.keras.layers.Conv2D(filter3, (1, 1), padding='same', activation='relu')(c2)\n",
    "\n",
    "    c3 = tf.keras.layers.Conv2D(filter5r, (1, 1), padding='same', activation='relu')(inputs)\n",
    "    c3 = tf.keras.layers.Conv2D(filter5, (1, 1), padding='same', activation='relu')(c3)\n",
    "\n",
    "    c4 = tf.keras.layers.MaxPool2D((3, 3), strides=1, padding='same')(inputs)\n",
    "    c4 = tf.keras.layers.Conv2D(maxPool, (1, 1), padding='same', activation='relu')(c4)\n",
    "\n",
    "    return tf.concat([c1, c2, c3, c4], axis=3)"
   ]
  },
  {
   "cell_type": "code",
   "execution_count": 4,
   "id": "0d01b32c-a45b-4fbd-be57-8c6ea381ea1a",
   "metadata": {},
   "outputs": [],
   "source": [
    "class inception(tf.keras.layers.Layer):\n",
    "    def __init__(self):\n",
    "        super().__init__()\n",
    "        self.c1 = tf.keras.layers.Conv2D(filter1, (1, 1), padding='same', activation='relu')(inputs)\n",
    "        self.c2 = tf.keras.Sequential([\n",
    "            tf.keras.layers.Conv2D(filter3r, (1, 1), padding='same', activation='relu'),\n",
    "            tf.keras.layers.Conv2D(filter3, (1, 1), padding='same', activation='relu')\n",
    "            ])\n",
    "        self.c3 = tf.keras.Sequential([\n",
    "            tf.keras.layers.Conv2D(filter5r, (1, 1), padding='same', activation='relu'),\n",
    "            tf.keras.layers.Conv2D(filter5, (1, 1), padding='same', activation='relu')\n",
    "            ])\n",
    "        self.c4 = tf.keras.Sequential([\n",
    "            tf.keras.layers.MaxPool2D((3, 3), strides=1, padding='same'),\n",
    "            tf.keras.layers.Conv2D(maxPool, (1, 1), padding='same', activation='relu')\n",
    "            ])\n",
    "    def call():\n",
    "        return \"\""
   ]
  }
 ],
 "metadata": {
  "kernelspec": {
   "display_name": "Python 3 (ipykernel)",
   "language": "python",
   "name": "python3"
  },
  "language_info": {
   "codemirror_mode": {
    "name": "ipython",
    "version": 3
   },
   "file_extension": ".py",
   "mimetype": "text/x-python",
   "name": "python",
   "nbconvert_exporter": "python",
   "pygments_lexer": "ipython3",
   "version": "3.9.18"
  }
 },
 "nbformat": 4,
 "nbformat_minor": 5
}
