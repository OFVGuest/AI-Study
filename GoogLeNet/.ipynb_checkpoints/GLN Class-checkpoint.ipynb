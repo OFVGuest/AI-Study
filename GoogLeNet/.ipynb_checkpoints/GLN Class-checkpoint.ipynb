{
 "cells": [
  {
   "cell_type": "code",
   "execution_count": 2,
   "id": "86d1502b-3324-4b7f-9ff0-3f07ed0b8dbe",
   "metadata": {},
   "outputs": [],
   "source": [
    "import tensorflow as tf"
   ]
  },
  {
   "cell_type": "code",
   "execution_count": 16,
   "id": "0d01b32c-a45b-4fbd-be57-8c6ea381ea1a",
   "metadata": {},
   "outputs": [],
   "source": [
    "class inception(tf.keras.layers.Layer):\n",
    "    def __init__(self, filter1, filter3r, filter3, filter5r, filter5, maxPool):\n",
    "        super().__init__()\n",
    "        self.c1 = tf.keras.layers.Conv2D(filter1, (1, 1), padding='same', activation='relu')\n",
    "        self.c2 = tf.keras.Sequential([\n",
    "            tf.keras.layers.Conv2D(filter3r, (1, 1), padding='same', activation='relu'),\n",
    "            tf.keras.layers.Conv2D(filter3, (1, 1), padding='same', activation='relu')\n",
    "            ])\n",
    "        self.c3 = tf.keras.Sequential([\n",
    "            tf.keras.layers.Conv2D(filter5r, (1, 1), padding='same', activation='relu'),\n",
    "            tf.keras.layers.Conv2D(filter5, (1, 1), padding='same', activation='relu')\n",
    "            ])\n",
    "        self.c4 = tf.keras.Sequential([\n",
    "            tf.keras.layers.MaxPool2D((3, 3), strides=1, padding='same'),\n",
    "            tf.keras.layers.Conv2D(maxPool, (1, 1), padding='same', activation='relu')\n",
    "            ])\n",
    "    \n",
    "    def call(self, inp):\n",
    "        out1 = self.c1(inp)\n",
    "        out2 = self.c2(inp)\n",
    "        out3 = self.c3(inp)\n",
    "        out4 = self.c4(inp)\n",
    "        return tf.concat([out1, out2, out3, out4], axis=3)"
   ]
  },
  {
   "cell_type": "code",
   "execution_count": 19,
   "id": "6708e4d6-8c9f-4066-8e43-f2df28eec3f4",
   "metadata": {},
   "outputs": [],
   "source": [
    "from tensorflow.keras import datasets\n",
    "(x_train, y_train), (x_test, y_test) = datasets.mnist.load_data()\n",
    "x_train = tf.pad(x_train, [[0, 0], [2, 2], [2, 2]])/255\n",
    "x_test = tf.pad(x_test, [[0, 0], [2, 2], [2, 2]])/255\n",
    "x_train = tf.expand_dims(x_train, axis=3, name=None)\n",
    "x_test = tf.expand_dims(x_test, axis=3, name=None)\n",
    "x_train = tf.repeat(x_train, 3, axis=3)\n",
    "x_test = tf.repeat(x_test, 3, axis=3)\n",
    "x_val = x_train[-2000:, :, :, :]\n",
    "y_val = y_train[-2000:]\n",
    "x_train = x_train[:-2000, :, :, :]\n",
    "y_train = y_train[:-2000]"
   ]
  },
  {
   "cell_type": "code",
   "execution_count": 21,
   "id": "dc90417b-f162-4662-bfad-a2000314e507",
   "metadata": {},
   "outputs": [
    {
     "data": {
      "text/plain": [
       "TensorShape([58000, 32, 32, 3])"
      ]
     },
     "execution_count": 21,
     "metadata": {},
     "output_type": "execute_result"
    }
   ],
   "source": [
    "x_train.shape"
   ]
  },
  {
   "cell_type": "code",
   "execution_count": 38,
   "id": "07557e6a-2080-4be6-b685-7b764bc62eab",
   "metadata": {},
   "outputs": [],
   "source": [
    "parameters = [\n",
    "    tf.keras.layers.Input(shape=(32, 32, 3)),\n",
    "    tf.keras.layers.experimental.preprocessing.Resizing(224, 224, interpolation=\"bilinear\", input_shape=x_train.shape[1:]),\n",
    "    tf.keras.layers.Conv2D(64, 7, strides=2, padding='same', activation='relu'),\n",
    "    tf.keras.layers.MaxPooling2D(3, strides=2),\n",
    "    tf.keras.layers.Conv2D(64, 1, strides=1, padding='same', activation='relu'),\n",
    "    tf.keras.layers.Conv2D(192, 3, strides=1, padding='same', activation='relu'),\n",
    "    tf.keras.layers.MaxPooling2D(3, strides=2),\n",
    "    inception(64, 96, 128, 16, 32, 32),\n",
    "    inception(128, 128, 192, 32, 96, 64),\n",
    "    tf.keras.layers.MaxPooling2D(3, strides= (2, 2)),\n",
    "    inception(192, 96, 208, 16, 48, 64),\n",
    "    inception(160, 112, 224, 24, 64, 64),\n",
    "    inception(128, 128, 256, 24, 64, 64),\n",
    "    inception(112, 144, 288, 32, 64, 64),\n",
    "    inception(256, 160, 320, 32, 128, 128),\n",
    "    tf.keras.layers.MaxPooling2D(3, strides=2),\n",
    "    inception(256, 160, 320, 32, 128, 128),\n",
    "    inception(384, 192, 384, 48, 128, 128),\n",
    "    tf.keras.layers.GlobalAveragePooling2D(),\n",
    "    tf.keras.layers.Dense(10, activation='softmax')\n",
    "]"
   ]
  },
  {
   "cell_type": "code",
   "execution_count": 39,
   "id": "d6cfdb8f-28e8-4ade-b39f-8073ee993745",
   "metadata": {},
   "outputs": [],
   "source": [
    "model = tf.keras.Sequential(parameters)"
   ]
  },
  {
   "cell_type": "code",
   "execution_count": 40,
   "id": "2f0d9352-0861-44ca-ad17-c9ce2ca801c0",
   "metadata": {},
   "outputs": [],
   "source": [
    "model.compile(optimizer='adam', loss='sparse_categorical_crossentropy', metrics=['accuracy'])"
   ]
  },
  {
   "cell_type": "code",
   "execution_count": 41,
   "id": "695cdcac-9b21-4710-a2b5-cda35ce0877e",
   "metadata": {},
   "outputs": [
    {
     "name": "stdout",
     "output_type": "stream",
     "text": [
      "Model: \"sequential_250\"\n",
      "_________________________________________________________________\n",
      " Layer (type)                Output Shape              Param #   \n",
      "=================================================================\n",
      " resizing (Resizing)         (None, 224, 224, 3)       0         \n",
      "                                                                 \n",
      " conv2d_460 (Conv2D)         (None, 112, 112, 64)      9472      \n",
      "                                                                 \n",
      " max_pooling2d_106 (MaxPooli  (None, 55, 55, 64)       0         \n",
      " ng2D)                                                           \n",
      "                                                                 \n",
      " conv2d_461 (Conv2D)         (None, 55, 55, 64)        4160      \n",
      "                                                                 \n",
      " conv2d_462 (Conv2D)         (None, 55, 55, 192)       110784    \n",
      "                                                                 \n",
      " max_pooling2d_107 (MaxPooli  (None, 27, 27, 192)      0         \n",
      " ng2D)                                                           \n",
      "                                                                 \n",
      " inception_73 (inception)    (None, 27, 27, 256)       53104     \n",
      "                                                                 \n",
      " inception_74 (inception)    (None, 27, 27, 480)       118400    \n",
      "                                                                 \n",
      " max_pooling2d_110 (MaxPooli  (None, 13, 13, 480)      0         \n",
      " ng2D)                                                           \n",
      "                                                                 \n",
      " inception_75 (inception)    (None, 13, 13, 512)       198000    \n",
      "                                                                 \n",
      " inception_76 (inception)    (None, 13, 13, 512)       211592    \n",
      "                                                                 \n",
      " inception_77 (inception)    (None, 13, 13, 512)       211096    \n",
      "                                                                 \n",
      " inception_78 (inception)    (None, 13, 13, 528)       224448    \n",
      "                                                                 \n",
      " inception_79 (inception)    (None, 13, 13, 832)       360448    \n",
      "                                                                 \n",
      " max_pooling2d_116 (MaxPooli  (None, 6, 6, 832)        0         \n",
      " ng2D)                                                           \n",
      "                                                                 \n",
      " inception_80 (inception)    (None, 6, 6, 832)         535552    \n",
      "                                                                 \n",
      " inception_81 (inception)    (None, 6, 6, 1024)        706800    \n",
      "                                                                 \n",
      " global_average_pooling2d_8   (None, 1024)             0         \n",
      " (GlobalAveragePooling2D)                                        \n",
      "                                                                 \n",
      " dense_7 (Dense)             (None, 10)                10250     \n",
      "                                                                 \n",
      "=================================================================\n",
      "Total params: 2,754,106\n",
      "Trainable params: 2,754,106\n",
      "Non-trainable params: 0\n",
      "_________________________________________________________________\n"
     ]
    }
   ],
   "source": [
    "model.summary()"
   ]
  },
  {
   "cell_type": "code",
   "execution_count": 43,
   "id": "adfcdc86-4828-4f90-b52a-ee718dbfa305",
   "metadata": {},
   "outputs": [
    {
     "name": "stdout",
     "output_type": "stream",
     "text": [
      "Epoch 1/10\n",
      "907/907 [==============================] - 164s 178ms/step - loss: 1.3203 - accuracy: 0.5078 - val_loss: 0.2006 - val_accuracy: 0.9365\n",
      "Epoch 2/10\n",
      "907/907 [==============================] - 158s 174ms/step - loss: 0.1551 - accuracy: 0.9507 - val_loss: 0.0804 - val_accuracy: 0.9745\n",
      "Epoch 3/10\n",
      "907/907 [==============================] - 162s 179ms/step - loss: 0.0954 - accuracy: 0.9702 - val_loss: 0.0596 - val_accuracy: 0.9825\n",
      "Epoch 4/10\n",
      "907/907 [==============================] - 161s 178ms/step - loss: 0.0757 - accuracy: 0.9764 - val_loss: 0.0514 - val_accuracy: 0.9860\n",
      "Epoch 5/10\n",
      "907/907 [==============================] - 167s 184ms/step - loss: 0.0647 - accuracy: 0.9799 - val_loss: 0.0565 - val_accuracy: 0.9830\n",
      "Epoch 6/10\n",
      "907/907 [==============================] - 167s 184ms/step - loss: 0.0563 - accuracy: 0.9822 - val_loss: 0.0646 - val_accuracy: 0.9815\n",
      "Epoch 7/10\n",
      "907/907 [==============================] - 155s 171ms/step - loss: 0.0531 - accuracy: 0.9831 - val_loss: 0.0444 - val_accuracy: 0.9920\n",
      "Epoch 8/10\n",
      "907/907 [==============================] - 152s 168ms/step - loss: 0.0456 - accuracy: 0.9857 - val_loss: 0.0449 - val_accuracy: 0.9900\n",
      "Epoch 9/10\n",
      "907/907 [==============================] - 161s 178ms/step - loss: 0.0460 - accuracy: 0.9853 - val_loss: 0.0418 - val_accuracy: 0.9880\n",
      "Epoch 10/10\n",
      "907/907 [==============================] - 159s 175ms/step - loss: 0.0419 - accuracy: 0.9869 - val_loss: 0.0621 - val_accuracy: 0.9845\n"
     ]
    },
    {
     "data": {
      "text/plain": [
       "<keras.callbacks.History at 0x18871a174f0>"
      ]
     },
     "execution_count": 43,
     "metadata": {},
     "output_type": "execute_result"
    }
   ],
   "source": [
    "model.fit(x_train, y_train, validation_data=(x_val, y_val), batch_size=64, epochs=10)"
   ]
  }
 ],
 "metadata": {
  "kernelspec": {
   "display_name": "Python 3 (ipykernel)",
   "language": "python",
   "name": "python3"
  },
  "language_info": {
   "codemirror_mode": {
    "name": "ipython",
    "version": 3
   },
   "file_extension": ".py",
   "mimetype": "text/x-python",
   "name": "python",
   "nbconvert_exporter": "python",
   "pygments_lexer": "ipython3",
   "version": "3.12.0"
  }
 },
 "nbformat": 4,
 "nbformat_minor": 5
}
