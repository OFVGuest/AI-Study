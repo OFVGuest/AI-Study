{
 "cells": [
  {
   "cell_type": "code",
   "execution_count": 2,
   "id": "7d26255a-0f5e-4665-aed1-cf849322e01e",
   "metadata": {},
   "outputs": [],
   "source": [
    "import tensorflow as tf\n",
    "import matplotlib.pyplot as plt"
   ]
  },
  {
   "cell_type": "markdown",
   "id": "d8a3e584-b5ec-479b-8597-dc38b36fbb39",
   "metadata": {},
   "source": [
    "# Data obtaining"
   ]
  },
  {
   "cell_type": "markdown",
   "id": "8d2b7895-4ea7-4000-99a6-88466fac7206",
   "metadata": {},
   "source": [
    "Let's import MNIST to work with it, because it is easier and also we are not going to lose 2 hours per epoch.\\\n",
    "Also, we must add the three channels because MNIST is only one channel."
   ]
  },
  {
   "cell_type": "code",
   "execution_count": 3,
   "id": "ca2e11f1-d463-4e23-803a-49bbb2c76cc4",
   "metadata": {},
   "outputs": [],
   "source": [
    "from tensorflow.keras import datasets\n",
    "(x_train, y_train), (x_test, y_test) = datasets.mnist.load_data()\n",
    "x_train = tf.pad(x_train, [[0, 0], [2, 2], [2, 2]])/255\n",
    "x_test = tf.pad(x_test, [[0, 0], [2, 2], [2, 2]])/255\n",
    "x_train = tf.expand_dims(x_train, axis=3, name=None)\n",
    "x_test = tf.expand_dims(x_test, axis=3, name=None)\n",
    "x_train = tf.repeat(x_train, 3, axis=3)\n",
    "x_test = tf.repeat(x_test, 3, axis=3)\n",
    "x_val = x_train[-2000:, :, :, :]\n",
    "y_val = y_train[-2000:]\n",
    "x_train = x_train[:-2000, :, :, :]\n",
    "y_train = y_train[:-2000]"
   ]
  },
  {
   "cell_type": "code",
   "execution_count": 5,
   "id": "6d39763f-3edb-4536-931b-180755b071dc",
   "metadata": {},
   "outputs": [
    {
     "data": {
      "text/plain": [
       "TensorShape([58000, 32, 32, 3])"
      ]
     },
     "execution_count": 5,
     "metadata": {},
     "output_type": "execute_result"
    }
   ],
   "source": [
    "x_train.shape"
   ]
  },
  {
   "cell_type": "markdown",
   "id": "d12e2f9f-de03-424f-89ba-652a5977c573",
   "metadata": {},
   "source": [
    "# Model processing"
   ]
  },
  {
   "cell_type": "markdown",
   "id": "acb174b4-0f7d-4204-b991-24dec024833e",
   "metadata": {},
   "source": [
    "We must understand that an Inception block is.\\\n",
    "An Inception block consists in convolutionals layers however, in parallel, so we can obtain every kind of information from the image.\\\n",
    "Furthermore, we reduce the size and dimensions from channels with the 1x1 Convolutional layers."
   ]
  },
  {
   "cell_type": "markdown",
   "id": "02e6342b-1971-40d4-8348-e0da747ba6f2",
   "metadata": {},
   "source": [
    "Here is the image of the model we are going to use. GoogLeNet V1-\\\n",
    "Winner of the ImageNet competition.\\\n",
    "FUNFACT: Inception comes from the movie from Leonardo DiCaprio. \"We must go deeper\""
   ]
  },
  {
   "cell_type": "markdown",
   "id": "1e0678ec-7549-42b6-853c-f72b2bb72f95",
   "metadata": {},
   "source": [
    "<img src=\"inception.png\" alt=\"image\" width=\"720\" height=\"auto\">"
   ]
  },
  {
   "cell_type": "code",
   "execution_count": 3,
   "id": "ae3912c1-31fa-4de5-bcba-d0dc2492ecda",
   "metadata": {},
   "outputs": [],
   "source": [
    "def inception(inputs, filter1, filter3r, filter3, filter5r, filter5, maxPool):\n",
    "    c1 = tf.keras.layers.Conv2D(filter1, (1, 1), padding='same', activation='relu')(inputs)\n",
    "    \n",
    "    c2 = tf.keras.layers.Conv2D(filter3r, (1, 1), padding='same', activation='relu')(inputs)\n",
    "    c2 = tf.keras.layers.Conv2D(filter3, (1, 1), padding='same', activation='relu')(c2)\n",
    "\n",
    "    c3 = tf.keras.layers.Conv2D(filter5r, (1, 1), padding='same', activation='relu')(inputs)\n",
    "    c3 = tf.keras.layers.Conv2D(filter5, (1, 1), padding='same', activation='relu')(c3)\n",
    "\n",
    "    c4 = tf.keras.layers.MaxPool2D((3, 3), strides=1, padding='same')(inputs)\n",
    "    c4 = tf.keras.layers.Conv2D(maxPool, (1, 1), padding='same', activation='relu')(c4)\n",
    "\n",
    "    return tf.concat([c1, c2, c3, c4], axis=3)"
   ]
  },
  {
   "cell_type": "code",
   "execution_count": 4,
   "id": "6c307350-2dc6-4c6c-b8a4-ff309e03ddc3",
   "metadata": {},
   "outputs": [],
   "source": [
    "from tensorflow.keras import layers"
   ]
  },
  {
   "cell_type": "markdown",
   "id": "d2bc024f-4b29-4dc7-828d-ca0fa1bacb88",
   "metadata": {},
   "source": [
    "Create and assemble the model."
   ]
  },
  {
   "cell_type": "code",
   "execution_count": 12,
   "id": "80a393f9-c1e3-4dc9-8ddd-9a9379853bf2",
   "metadata": {},
   "outputs": [],
   "source": [
    "inp = layers.Input(shape= (32, 32, 3))\n",
    "inputs = layers.experimental.preprocessing.Resizing(224, 224, interpolation=\"bilinear\", input_shape=x_train.shape[1:])(inp)\n",
    "\n",
    "x = layers.Conv2D(64, 7, strides=2, padding='same', activation='relu')(inputs)\n",
    "x = layers.MaxPooling2D(3, strides=2)(x)\n",
    "x = layers.Conv2D(64, 1, strides=1, padding='same', activation='relu')(x)\n",
    "x = layers.Conv2D(192, 3, strides=1, padding='same', activation='relu')(x)\n",
    "x = layers.MaxPooling2D(3, strides=2)(x)\n",
    "\n",
    "x = inception(x, 64, 96, 128, 16, 32, 32)\n",
    "x = inception(x, 128, 128, 192, 32, 96, 64)\n",
    "\n",
    "x = layers.MaxPooling2D(3, strides= (2, 2))(x)\n",
    "\n",
    "x = inception(x, 192, 96, 208, 16, 48, 64)\n",
    "x = inception(x, 160, 112, 224, 24, 64, 64)\n",
    "x = inception(x, 128, 128, 256, 24, 64, 64)\n",
    "x = inception(x, 112, 144, 288, 32, 64, 64)\n",
    "x = inception(x, 256, 160, 320, 32, 128, 128)\n",
    "\n",
    "x = layers.MaxPooling2D(3, strides=2)(x)\n",
    "\n",
    "x = inception(x, 256, 160, 320, 32, 128, 128)\n",
    "x = inception(x, 384, 192, 384, 48, 128, 128)\n",
    "\n",
    "x = layers.GlobalAveragePooling2D()(x)\n",
    "out = layers.Dense(10, activation='softmax')(x)"
   ]
  },
  {
   "cell_type": "code",
   "execution_count": 13,
   "id": "a2ef0644-a2f8-4b84-b125-0638ba0e9b16",
   "metadata": {},
   "outputs": [],
   "source": [
    "model = tf.keras.Model(inputs= inp, outputs= [out])"
   ]
  },
  {
   "cell_type": "code",
   "execution_count": 14,
   "id": "1f9d1602-4e20-44b8-8377-e1197e556fa3",
   "metadata": {},
   "outputs": [],
   "source": [
    "model.compile(optimizer='adam', loss='sparse_categorical_crossentropy', metrics=['accuracy'])"
   ]
  },
  {
   "cell_type": "code",
   "execution_count": 16,
   "id": "b8c7c44a-e89f-4128-8bb6-a2cb7128dd3b",
   "metadata": {
    "scrolled": true
   },
   "outputs": [
    {
     "name": "stdout",
     "output_type": "stream",
     "text": [
      "Model: \"model\"\n",
      "__________________________________________________________________________________________________\n",
      " Layer (type)                   Output Shape         Param #     Connected to                     \n",
      "==================================================================================================\n",
      " input_4 (InputLayer)           [(None, 32, 32, 3)]  0           []                               \n",
      "                                                                                                  \n",
      " resizing_1 (Resizing)          (None, 224, 224, 3)  0           ['input_4[0][0]']                \n",
      "                                                                                                  \n",
      " conv2d_57 (Conv2D)             (None, 112, 112, 64  9472        ['resizing_1[0][0]']             \n",
      "                                )                                                                 \n",
      "                                                                                                  \n",
      " max_pooling2d_13 (MaxPooling2D  (None, 55, 55, 64)  0           ['conv2d_57[0][0]']              \n",
      " )                                                                                                \n",
      "                                                                                                  \n",
      " conv2d_58 (Conv2D)             (None, 55, 55, 64)   4160        ['max_pooling2d_13[0][0]']       \n",
      "                                                                                                  \n",
      " conv2d_59 (Conv2D)             (None, 55, 55, 192)  110784      ['conv2d_58[0][0]']              \n",
      "                                                                                                  \n",
      " max_pooling2d_14 (MaxPooling2D  (None, 27, 27, 192)  0          ['conv2d_59[0][0]']              \n",
      " )                                                                                                \n",
      "                                                                                                  \n",
      " conv2d_61 (Conv2D)             (None, 27, 27, 96)   18528       ['max_pooling2d_14[0][0]']       \n",
      "                                                                                                  \n",
      " conv2d_63 (Conv2D)             (None, 27, 27, 16)   3088        ['max_pooling2d_14[0][0]']       \n",
      "                                                                                                  \n",
      " max_pooling2d_15 (MaxPooling2D  (None, 27, 27, 192)  0          ['max_pooling2d_14[0][0]']       \n",
      " )                                                                                                \n",
      "                                                                                                  \n",
      " conv2d_60 (Conv2D)             (None, 27, 27, 64)   12352       ['max_pooling2d_14[0][0]']       \n",
      "                                                                                                  \n",
      " conv2d_62 (Conv2D)             (None, 27, 27, 128)  12416       ['conv2d_61[0][0]']              \n",
      "                                                                                                  \n",
      " conv2d_64 (Conv2D)             (None, 27, 27, 32)   544         ['conv2d_63[0][0]']              \n",
      "                                                                                                  \n",
      " conv2d_65 (Conv2D)             (None, 27, 27, 32)   6176        ['max_pooling2d_15[0][0]']       \n",
      "                                                                                                  \n",
      " tf.concat_9 (TFOpLambda)       (None, 27, 27, 256)  0           ['conv2d_60[0][0]',              \n",
      "                                                                  'conv2d_62[0][0]',              \n",
      "                                                                  'conv2d_64[0][0]',              \n",
      "                                                                  'conv2d_65[0][0]']              \n",
      "                                                                                                  \n",
      " conv2d_67 (Conv2D)             (None, 27, 27, 128)  32896       ['tf.concat_9[0][0]']            \n",
      "                                                                                                  \n",
      " conv2d_69 (Conv2D)             (None, 27, 27, 32)   8224        ['tf.concat_9[0][0]']            \n",
      "                                                                                                  \n",
      " max_pooling2d_16 (MaxPooling2D  (None, 27, 27, 256)  0          ['tf.concat_9[0][0]']            \n",
      " )                                                                                                \n",
      "                                                                                                  \n",
      " conv2d_66 (Conv2D)             (None, 27, 27, 128)  32896       ['tf.concat_9[0][0]']            \n",
      "                                                                                                  \n",
      " conv2d_68 (Conv2D)             (None, 27, 27, 192)  24768       ['conv2d_67[0][0]']              \n",
      "                                                                                                  \n",
      " conv2d_70 (Conv2D)             (None, 27, 27, 96)   3168        ['conv2d_69[0][0]']              \n",
      "                                                                                                  \n",
      " conv2d_71 (Conv2D)             (None, 27, 27, 64)   16448       ['max_pooling2d_16[0][0]']       \n",
      "                                                                                                  \n",
      " tf.concat_10 (TFOpLambda)      (None, 27, 27, 480)  0           ['conv2d_66[0][0]',              \n",
      "                                                                  'conv2d_68[0][0]',              \n",
      "                                                                  'conv2d_70[0][0]',              \n",
      "                                                                  'conv2d_71[0][0]']              \n",
      "                                                                                                  \n",
      " max_pooling2d_17 (MaxPooling2D  (None, 13, 13, 480)  0          ['tf.concat_10[0][0]']           \n",
      " )                                                                                                \n",
      "                                                                                                  \n",
      " conv2d_73 (Conv2D)             (None, 13, 13, 96)   46176       ['max_pooling2d_17[0][0]']       \n",
      "                                                                                                  \n",
      " conv2d_75 (Conv2D)             (None, 13, 13, 16)   7696        ['max_pooling2d_17[0][0]']       \n",
      "                                                                                                  \n",
      " max_pooling2d_18 (MaxPooling2D  (None, 13, 13, 480)  0          ['max_pooling2d_17[0][0]']       \n",
      " )                                                                                                \n",
      "                                                                                                  \n",
      " conv2d_72 (Conv2D)             (None, 13, 13, 192)  92352       ['max_pooling2d_17[0][0]']       \n",
      "                                                                                                  \n",
      " conv2d_74 (Conv2D)             (None, 13, 13, 208)  20176       ['conv2d_73[0][0]']              \n",
      "                                                                                                  \n",
      " conv2d_76 (Conv2D)             (None, 13, 13, 48)   816         ['conv2d_75[0][0]']              \n",
      "                                                                                                  \n",
      " conv2d_77 (Conv2D)             (None, 13, 13, 64)   30784       ['max_pooling2d_18[0][0]']       \n",
      "                                                                                                  \n",
      " tf.concat_11 (TFOpLambda)      (None, 13, 13, 512)  0           ['conv2d_72[0][0]',              \n",
      "                                                                  'conv2d_74[0][0]',              \n",
      "                                                                  'conv2d_76[0][0]',              \n",
      "                                                                  'conv2d_77[0][0]']              \n",
      "                                                                                                  \n",
      " conv2d_79 (Conv2D)             (None, 13, 13, 112)  57456       ['tf.concat_11[0][0]']           \n",
      "                                                                                                  \n",
      " conv2d_81 (Conv2D)             (None, 13, 13, 24)   12312       ['tf.concat_11[0][0]']           \n",
      "                                                                                                  \n",
      " max_pooling2d_19 (MaxPooling2D  (None, 13, 13, 512)  0          ['tf.concat_11[0][0]']           \n",
      " )                                                                                                \n",
      "                                                                                                  \n",
      " conv2d_78 (Conv2D)             (None, 13, 13, 160)  82080       ['tf.concat_11[0][0]']           \n",
      "                                                                                                  \n",
      " conv2d_80 (Conv2D)             (None, 13, 13, 224)  25312       ['conv2d_79[0][0]']              \n",
      "                                                                                                  \n",
      " conv2d_82 (Conv2D)             (None, 13, 13, 64)   1600        ['conv2d_81[0][0]']              \n",
      "                                                                                                  \n",
      " conv2d_83 (Conv2D)             (None, 13, 13, 64)   32832       ['max_pooling2d_19[0][0]']       \n",
      "                                                                                                  \n",
      " tf.concat_12 (TFOpLambda)      (None, 13, 13, 512)  0           ['conv2d_78[0][0]',              \n",
      "                                                                  'conv2d_80[0][0]',              \n",
      "                                                                  'conv2d_82[0][0]',              \n",
      "                                                                  'conv2d_83[0][0]']              \n",
      "                                                                                                  \n",
      " conv2d_85 (Conv2D)             (None, 13, 13, 128)  65664       ['tf.concat_12[0][0]']           \n",
      "                                                                                                  \n",
      " conv2d_87 (Conv2D)             (None, 13, 13, 24)   12312       ['tf.concat_12[0][0]']           \n",
      "                                                                                                  \n",
      " max_pooling2d_20 (MaxPooling2D  (None, 13, 13, 512)  0          ['tf.concat_12[0][0]']           \n",
      " )                                                                                                \n",
      "                                                                                                  \n",
      " conv2d_84 (Conv2D)             (None, 13, 13, 128)  65664       ['tf.concat_12[0][0]']           \n",
      "                                                                                                  \n",
      " conv2d_86 (Conv2D)             (None, 13, 13, 256)  33024       ['conv2d_85[0][0]']              \n",
      "                                                                                                  \n",
      " conv2d_88 (Conv2D)             (None, 13, 13, 64)   1600        ['conv2d_87[0][0]']              \n",
      "                                                                                                  \n",
      " conv2d_89 (Conv2D)             (None, 13, 13, 64)   32832       ['max_pooling2d_20[0][0]']       \n",
      "                                                                                                  \n",
      " tf.concat_13 (TFOpLambda)      (None, 13, 13, 512)  0           ['conv2d_84[0][0]',              \n",
      "                                                                  'conv2d_86[0][0]',              \n",
      "                                                                  'conv2d_88[0][0]',              \n",
      "                                                                  'conv2d_89[0][0]']              \n",
      "                                                                                                  \n",
      " conv2d_91 (Conv2D)             (None, 13, 13, 144)  73872       ['tf.concat_13[0][0]']           \n",
      "                                                                                                  \n",
      " conv2d_93 (Conv2D)             (None, 13, 13, 32)   16416       ['tf.concat_13[0][0]']           \n",
      "                                                                                                  \n",
      " max_pooling2d_21 (MaxPooling2D  (None, 13, 13, 512)  0          ['tf.concat_13[0][0]']           \n",
      " )                                                                                                \n",
      "                                                                                                  \n",
      " conv2d_90 (Conv2D)             (None, 13, 13, 112)  57456       ['tf.concat_13[0][0]']           \n",
      "                                                                                                  \n",
      " conv2d_92 (Conv2D)             (None, 13, 13, 288)  41760       ['conv2d_91[0][0]']              \n",
      "                                                                                                  \n",
      " conv2d_94 (Conv2D)             (None, 13, 13, 64)   2112        ['conv2d_93[0][0]']              \n",
      "                                                                                                  \n",
      " conv2d_95 (Conv2D)             (None, 13, 13, 64)   32832       ['max_pooling2d_21[0][0]']       \n",
      "                                                                                                  \n",
      " tf.concat_14 (TFOpLambda)      (None, 13, 13, 528)  0           ['conv2d_90[0][0]',              \n",
      "                                                                  'conv2d_92[0][0]',              \n",
      "                                                                  'conv2d_94[0][0]',              \n",
      "                                                                  'conv2d_95[0][0]']              \n",
      "                                                                                                  \n",
      " conv2d_97 (Conv2D)             (None, 13, 13, 160)  84640       ['tf.concat_14[0][0]']           \n",
      "                                                                                                  \n",
      " conv2d_99 (Conv2D)             (None, 13, 13, 32)   16928       ['tf.concat_14[0][0]']           \n",
      "                                                                                                  \n",
      " max_pooling2d_22 (MaxPooling2D  (None, 13, 13, 528)  0          ['tf.concat_14[0][0]']           \n",
      " )                                                                                                \n",
      "                                                                                                  \n",
      " conv2d_96 (Conv2D)             (None, 13, 13, 256)  135424      ['tf.concat_14[0][0]']           \n",
      "                                                                                                  \n",
      " conv2d_98 (Conv2D)             (None, 13, 13, 320)  51520       ['conv2d_97[0][0]']              \n",
      "                                                                                                  \n",
      " conv2d_100 (Conv2D)            (None, 13, 13, 128)  4224        ['conv2d_99[0][0]']              \n",
      "                                                                                                  \n",
      " conv2d_101 (Conv2D)            (None, 13, 13, 128)  67712       ['max_pooling2d_22[0][0]']       \n",
      "                                                                                                  \n",
      " tf.concat_15 (TFOpLambda)      (None, 13, 13, 832)  0           ['conv2d_96[0][0]',              \n",
      "                                                                  'conv2d_98[0][0]',              \n",
      "                                                                  'conv2d_100[0][0]',             \n",
      "                                                                  'conv2d_101[0][0]']             \n",
      "                                                                                                  \n",
      " max_pooling2d_23 (MaxPooling2D  (None, 6, 6, 832)   0           ['tf.concat_15[0][0]']           \n",
      " )                                                                                                \n",
      "                                                                                                  \n",
      " conv2d_103 (Conv2D)            (None, 6, 6, 160)    133280      ['max_pooling2d_23[0][0]']       \n",
      "                                                                                                  \n",
      " conv2d_105 (Conv2D)            (None, 6, 6, 32)     26656       ['max_pooling2d_23[0][0]']       \n",
      "                                                                                                  \n",
      " max_pooling2d_24 (MaxPooling2D  (None, 6, 6, 832)   0           ['max_pooling2d_23[0][0]']       \n",
      " )                                                                                                \n",
      "                                                                                                  \n",
      " conv2d_102 (Conv2D)            (None, 6, 6, 256)    213248      ['max_pooling2d_23[0][0]']       \n",
      "                                                                                                  \n",
      " conv2d_104 (Conv2D)            (None, 6, 6, 320)    51520       ['conv2d_103[0][0]']             \n",
      "                                                                                                  \n",
      " conv2d_106 (Conv2D)            (None, 6, 6, 128)    4224        ['conv2d_105[0][0]']             \n",
      "                                                                                                  \n",
      " conv2d_107 (Conv2D)            (None, 6, 6, 128)    106624      ['max_pooling2d_24[0][0]']       \n",
      "                                                                                                  \n",
      " tf.concat_16 (TFOpLambda)      (None, 6, 6, 832)    0           ['conv2d_102[0][0]',             \n",
      "                                                                  'conv2d_104[0][0]',             \n",
      "                                                                  'conv2d_106[0][0]',             \n",
      "                                                                  'conv2d_107[0][0]']             \n",
      "                                                                                                  \n",
      " conv2d_109 (Conv2D)            (None, 6, 6, 192)    159936      ['tf.concat_16[0][0]']           \n",
      "                                                                                                  \n",
      " conv2d_111 (Conv2D)            (None, 6, 6, 48)     39984       ['tf.concat_16[0][0]']           \n",
      "                                                                                                  \n",
      " max_pooling2d_25 (MaxPooling2D  (None, 6, 6, 832)   0           ['tf.concat_16[0][0]']           \n",
      " )                                                                                                \n",
      "                                                                                                  \n",
      " conv2d_108 (Conv2D)            (None, 6, 6, 384)    319872      ['tf.concat_16[0][0]']           \n",
      "                                                                                                  \n",
      " conv2d_110 (Conv2D)            (None, 6, 6, 384)    74112       ['conv2d_109[0][0]']             \n",
      "                                                                                                  \n",
      " conv2d_112 (Conv2D)            (None, 6, 6, 128)    6272        ['conv2d_111[0][0]']             \n",
      "                                                                                                  \n",
      " conv2d_113 (Conv2D)            (None, 6, 6, 128)    106624      ['max_pooling2d_25[0][0]']       \n",
      "                                                                                                  \n",
      " tf.concat_17 (TFOpLambda)      (None, 6, 6, 1024)   0           ['conv2d_108[0][0]',             \n",
      "                                                                  'conv2d_110[0][0]',             \n",
      "                                                                  'conv2d_112[0][0]',             \n",
      "                                                                  'conv2d_113[0][0]']             \n",
      "                                                                                                  \n",
      " global_average_pooling2d_1 (Gl  (None, 1024)        0           ['tf.concat_17[0][0]']           \n",
      " obalAveragePooling2D)                                                                            \n",
      "                                                                                                  \n",
      " dense_1 (Dense)                (None, 10)           10250       ['global_average_pooling2d_1[0][0\n",
      "                                                                 ]']                              \n",
      "                                                                                                  \n",
      "==================================================================================================\n",
      "Total params: 2,754,106\n",
      "Trainable params: 2,754,106\n",
      "Non-trainable params: 0\n",
      "__________________________________________________________________________________________________\n"
     ]
    }
   ],
   "source": [
    "model.summary()"
   ]
  },
  {
   "cell_type": "code",
   "execution_count": 17,
   "id": "2744b387-bd23-4a0d-8b6a-dc897020d522",
   "metadata": {},
   "outputs": [
    {
     "name": "stdout",
     "output_type": "stream",
     "text": [
      "Epoch 1/20\n",
      "907/907 [==============================] - 201s 186ms/step - loss: 1.0149 - accuracy: 0.6321 - val_loss: 0.3036 - val_accuracy: 0.9075\n",
      "Epoch 2/20\n",
      "907/907 [==============================] - 179s 198ms/step - loss: 0.1682 - accuracy: 0.9487 - val_loss: 0.0940 - val_accuracy: 0.9740\n",
      "Epoch 3/20\n",
      "907/907 [==============================] - 184s 203ms/step - loss: 0.1069 - accuracy: 0.9660 - val_loss: 0.0500 - val_accuracy: 0.9865\n",
      "Epoch 4/20\n",
      "907/907 [==============================] - 185s 204ms/step - loss: 0.0819 - accuracy: 0.9737 - val_loss: 0.0662 - val_accuracy: 0.9830\n",
      "Epoch 5/20\n",
      "907/907 [==============================] - 184s 203ms/step - loss: 0.0698 - accuracy: 0.9782 - val_loss: 0.0568 - val_accuracy: 0.9880\n",
      "Epoch 6/20\n",
      "907/907 [==============================] - 179s 197ms/step - loss: 0.0588 - accuracy: 0.9820 - val_loss: 0.0447 - val_accuracy: 0.9915\n",
      "Epoch 7/20\n",
      "907/907 [==============================] - 174s 192ms/step - loss: 0.0552 - accuracy: 0.9828 - val_loss: 0.0385 - val_accuracy: 0.9920\n",
      "Epoch 8/20\n",
      "907/907 [==============================] - 172s 189ms/step - loss: 0.0493 - accuracy: 0.9841 - val_loss: 0.0400 - val_accuracy: 0.9930\n",
      "Epoch 9/20\n",
      "322/907 [=========>....................] - ETA: 1:37 - loss: 0.0455 - accuracy: 0.9859"
     ]
    },
    {
     "name": "stderr",
     "output_type": "stream",
     "text": [
      "\n",
      "KeyboardInterrupt\n",
      "\n"
     ]
    }
   ],
   "source": [
    "model.fit(x_train, y_train, validation_data=(x_val, y_val), batch_size=64, epochs=20)"
   ]
  }
 ],
 "metadata": {
  "kernelspec": {
   "display_name": "Python 3 (ipykernel)",
   "language": "python",
   "name": "python3"
  },
  "language_info": {
   "codemirror_mode": {
    "name": "ipython",
    "version": 3
   },
   "file_extension": ".py",
   "mimetype": "text/x-python",
   "name": "python",
   "nbconvert_exporter": "python",
   "pygments_lexer": "ipython3",
   "version": "3.9.18"
  }
 },
 "nbformat": 4,
 "nbformat_minor": 5
}
