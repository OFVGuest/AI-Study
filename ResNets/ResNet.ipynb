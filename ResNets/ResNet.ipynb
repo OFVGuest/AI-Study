{
 "cells": [
  {
   "cell_type": "code",
   "execution_count": 1,
   "id": "897b6218-66b1-4a62-81f0-8b08be7dffc6",
   "metadata": {},
   "outputs": [],
   "source": [
    "import tensorflow as tf"
   ]
  },
  {
   "cell_type": "code",
   "execution_count": 2,
   "id": "327d61a1-910a-4810-b9bf-67e05ec4661e",
   "metadata": {},
   "outputs": [],
   "source": [
    "from tensorflow.keras import layers"
   ]
  },
  {
   "cell_type": "code",
   "execution_count": 3,
   "id": "d5c43597-8ed2-44e3-b644-9a92d6afa836",
   "metadata": {},
   "outputs": [],
   "source": [
    "from tensorflow.keras import datasets\n",
    "(x_train, y_train), (x_test, y_test) = datasets.mnist.load_data()\n",
    "x_train = tf.pad(x_train, [[0, 0], [2, 2], [2, 2]])/255\n",
    "x_test = tf.pad(x_test, [[0, 0], [2, 2], [2, 2]])/255\n",
    "x_train = tf.expand_dims(x_train, axis=3, name=None)\n",
    "x_test = tf.expand_dims(x_test, axis=3, name=None)\n",
    "x_train = tf.repeat(x_train, 3, axis=3)\n",
    "x_test = tf.repeat(x_test, 3, axis=3)\n",
    "x_val = x_train[-2000:, :, :, :]\n",
    "y_val = y_train[-2000:]\n",
    "x_train = x_train[:-2000, :, :, :]\n",
    "y_train = y_train[:-2000]"
   ]
  },
  {
   "cell_type": "code",
   "execution_count": 4,
   "id": "952937b0-99c6-4289-979f-5d30487c7739",
   "metadata": {},
   "outputs": [],
   "source": [
    "class Residual(layers.Layer):\n",
    "    def __init__(self, num_channels, strides=1):\n",
    "        super(Residual, self).__init__()\n",
    "        self.conv1 = layers.Conv2D(num_channels, kernel_size=3, padding='same', strides=strides)\n",
    "        self.conv2 = layers.Conv2D(num_channels, kernel_size=3, padding='same')\n",
    "        self.bn1 = layers.BatchNormalization()\n",
    "        self.bn2 = layers.BatchNormalization()\n",
    "\n",
    "    def call(self, inp):\n",
    "        x = self.conv1(inp)\n",
    "        x = self.bn1(x)\n",
    "        x = tf.nn.relu(x)\n",
    "        x = self.conv2(x)\n",
    "        x = self.bn2(x)\n",
    "        x = tf.nn.relu(x)\n",
    "        if x.shape == inp.shape:\n",
    "            x += inp\n",
    "        return x"
   ]
  },
  {
   "cell_type": "code",
   "execution_count": 12,
   "id": "156a3bd3-4330-48b9-98fc-c63a520bee9f",
   "metadata": {},
   "outputs": [],
   "source": [
    "parameters = [\n",
    "    tf.keras.layers.Input(shape=(32, 32, 3)),\n",
    "    tf.keras.layers.experimental.preprocessing.Resizing(96, 96, interpolation=\"bilinear\", input_shape=x_train.shape[1:]),\n",
    "    tf.keras.layers.Conv2D(64, 7, strides=2, padding='same', activation='relu'),\n",
    "    tf.keras.layers.MaxPooling2D(3, strides=2),\n",
    "    Residual(64),\n",
    "    Residual(64),\n",
    "    Residual(128),\n",
    "    Residual(128),\n",
    "    Residual(256),\n",
    "    Residual(256),\n",
    "    Residual(512),\n",
    "    Residual(512),\n",
    "    tf.keras.layers.GlobalAveragePooling2D(),\n",
    "    tf.keras.layers.Dense(10, activation='softmax')\n",
    "]"
   ]
  },
  {
   "cell_type": "code",
   "execution_count": 13,
   "id": "555723d7-1c1a-498a-a956-bdfd9f27305b",
   "metadata": {},
   "outputs": [],
   "source": [
    "model = tf.keras.Sequential(parameters)"
   ]
  },
  {
   "cell_type": "code",
   "execution_count": 14,
   "id": "dcacefa5-fd05-4d53-a6aa-c19362293059",
   "metadata": {},
   "outputs": [],
   "source": [
    "model.compile(optimizer='adam', loss='sparse_categorical_crossentropy', metrics=['accuracy'])"
   ]
  },
  {
   "cell_type": "code",
   "execution_count": 15,
   "id": "ad0f3dac-3aa0-4114-bf11-ca49e06e21b4",
   "metadata": {},
   "outputs": [
    {
     "name": "stdout",
     "output_type": "stream",
     "text": [
      "Model: \"sequential_1\"\n",
      "_________________________________________________________________\n",
      " Layer (type)                Output Shape              Param #   \n",
      "=================================================================\n",
      " resizing_1 (Resizing)       (None, 96, 96, 3)         0         \n",
      "                                                                 \n",
      " conv2d_17 (Conv2D)          (None, 48, 48, 64)        9472      \n",
      "                                                                 \n",
      " max_pooling2d_1 (MaxPooling  (None, 23, 23, 64)       0         \n",
      " 2D)                                                             \n",
      "                                                                 \n",
      " residual_8 (Residual)       (None, 23, 23, 64)        74368     \n",
      "                                                                 \n",
      " residual_9 (Residual)       (None, 23, 23, 64)        74368     \n",
      "                                                                 \n",
      " residual_10 (Residual)      (None, 23, 23, 128)       222464    \n",
      "                                                                 \n",
      " residual_11 (Residual)      (None, 23, 23, 128)       296192    \n",
      "                                                                 \n",
      " residual_12 (Residual)      (None, 23, 23, 256)       887296    \n",
      "                                                                 \n",
      " residual_13 (Residual)      (None, 23, 23, 256)       1182208   \n",
      "                                                                 \n",
      " residual_14 (Residual)      (None, 23, 23, 512)       3544064   \n",
      "                                                                 \n",
      " residual_15 (Residual)      (None, 23, 23, 512)       4723712   \n",
      "                                                                 \n",
      " global_average_pooling2d_1   (None, 512)              0         \n",
      " (GlobalAveragePooling2D)                                        \n",
      "                                                                 \n",
      " dense_1 (Dense)             (None, 10)                5130      \n",
      "                                                                 \n",
      "=================================================================\n",
      "Total params: 11,019,274\n",
      "Trainable params: 11,011,594\n",
      "Non-trainable params: 7,680\n",
      "_________________________________________________________________\n"
     ]
    }
   ],
   "source": [
    "model.summary()"
   ]
  },
  {
   "cell_type": "code",
   "execution_count": 16,
   "id": "bec5f5e3-d788-4400-9da0-97f9b4e27788",
   "metadata": {},
   "outputs": [
    {
     "name": "stdout",
     "output_type": "stream",
     "text": [
      "Epoch 1/10\n",
      "7250/7250 [==============================] - 585s 80ms/step - loss: 0.2122 - accuracy: 0.9344 - val_loss: 0.0668 - val_accuracy: 0.9835\n",
      "Epoch 2/10\n",
      "7250/7250 [==============================] - 580s 80ms/step - loss: 0.0835 - accuracy: 0.9753 - val_loss: 0.0745 - val_accuracy: 0.9785\n",
      "Epoch 3/10\n",
      "  50/7250 [..............................] - ETA: 9:25 - loss: 0.0667 - accuracy: 0.9775"
     ]
    },
    {
     "name": "stderr",
     "output_type": "stream",
     "text": [
      "\n",
      "KeyboardInterrupt\n",
      "\n"
     ]
    }
   ],
   "source": [
    "model.fit(x_train, y_train, validation_data=(x_val, y_val), batch_size=8, epochs=10)"
   ]
  }
 ],
 "metadata": {
  "kernelspec": {
   "display_name": "Python 3 (ipykernel)",
   "language": "python",
   "name": "python3"
  },
  "language_info": {
   "codemirror_mode": {
    "name": "ipython",
    "version": 3
   },
   "file_extension": ".py",
   "mimetype": "text/x-python",
   "name": "python",
   "nbconvert_exporter": "python",
   "pygments_lexer": "ipython3",
   "version": "3.9.18"
  }
 },
 "nbformat": 4,
 "nbformat_minor": 5
}
