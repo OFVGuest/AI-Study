{
 "cells": [
  {
   "cell_type": "code",
   "execution_count": 1,
   "id": "897b6218-66b1-4a62-81f0-8b08be7dffc6",
   "metadata": {},
   "outputs": [],
   "source": [
    "import tensorflow as tf"
   ]
  },
  {
   "cell_type": "code",
   "execution_count": 2,
   "id": "327d61a1-910a-4810-b9bf-67e05ec4661e",
   "metadata": {},
   "outputs": [],
   "source": [
    "from tensorflow.keras import layers"
   ]
  },
  {
   "cell_type": "code",
   "execution_count": 6,
   "id": "952937b0-99c6-4289-979f-5d30487c7739",
   "metadata": {},
   "outputs": [],
   "source": [
    "class Residual(layers.Layer):\n",
    "    def __init__(self, num_channels, use_1x1=False, strides=1):\n",
    "        super().__init__()\n",
    "        self.conv1 = layers.Conv2D(num_channels, kernel_size=3, padding='same', stride=strides)\n",
    "        self.conv2 = layers.Conv2D(num_channels, kernel_size=3, padding='same')\n",
    "        if use_1x1:\n",
    "            self.conv3 = layers.Conv2D(num_channels, kernel_size=1, stride=strides)\n",
    "        else:\n",
    "            self.conv3 = None\n",
    "        self.bn1 = layers.BatchNormalization()\n",
    "        self.bn2 = layers.BatchNormalization()\n",
    "\n",
    "    def call(self, inp):\n",
    "        self.conv1\n",
    "        self.bn1\n",
    "        #Relu\n",
    "        self.conv2\n",
    "        self.bn2"
   ]
  }
 ],
 "metadata": {
  "kernelspec": {
   "display_name": "Python 3 (ipykernel)",
   "language": "python",
   "name": "python3"
  },
  "language_info": {
   "codemirror_mode": {
    "name": "ipython",
    "version": 3
   },
   "file_extension": ".py",
   "mimetype": "text/x-python",
   "name": "python",
   "nbconvert_exporter": "python",
   "pygments_lexer": "ipython3",
   "version": "3.9.18"
  }
 },
 "nbformat": 4,
 "nbformat_minor": 5
}
