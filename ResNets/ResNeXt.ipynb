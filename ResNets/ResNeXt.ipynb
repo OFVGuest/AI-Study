{
 "cells": [
  {
   "cell_type": "code",
   "execution_count": 1,
   "id": "577712e7-8d89-48fe-9553-908743b54eed",
   "metadata": {},
   "outputs": [],
   "source": [
    "import tensorflow as tf"
   ]
  },
  {
   "cell_type": "code",
   "execution_count": 2,
   "id": "38d70497-afd5-4347-963d-03218008aa22",
   "metadata": {},
   "outputs": [],
   "source": [
    "from tensorflow.keras import layers"
   ]
  },
  {
   "cell_type": "code",
   "execution_count": 22,
   "id": "465d0e72-0f4f-4722-83af-d1a6bd59312e",
   "metadata": {},
   "outputs": [],
   "source": [
    "class ResNeXtBlock(layers.Layer):\n",
    "    def __init__(self, num_channels, groups, bot_mul, use_1x1conv=False, strides=1):\n",
    "        super(ResNeXtBlock, self).__init__()\n",
    "        bot_channels = int(round(num_channels * bot_mul))\n",
    "        self.conv1 = layers.Conv2D(bot_channels, kernel_size=1, strides=1)\n",
    "        self.conv2 = layers.Conv2D(bot_channels, kernel_size=3, strides=strides, padding='same', groups=bot_channels//groups)\n",
    "        self.conv3 = layers.Conv2D(num_channels, kernel_size=1, strides=1)\n",
    "        self.bn1 = layers.BatchNormalization()\n",
    "        self.bn2 = layers.BatchNormalization()\n",
    "        self.bn3 = layers.BatchNormalization()\n",
    "\n",
    "        if use_1x1conv:\n",
    "            self.conv4 = layers.Conv2D(num_channels, kernel_size=1, strides=strides)\n",
    "            self.bn4 = layers.BatchNormalization()\n",
    "        else:\n",
    "            self.conv4 = None        \n",
    "\n",
    "    def call(self, inp):\n",
    "        x = self.conv1(inp)\n",
    "        x = self.bn1(x)\n",
    "        x = tf.nn.relu(x)\n",
    "        x = self.conv2(x)\n",
    "        x = self.bn2(x)\n",
    "        x = tf.nn.relu(x)\n",
    "        x = self.conv3(x)\n",
    "        x = self.bn3(x)\n",
    "        if self.conv4:\n",
    "            x = self.bn4(self.conv4(x))\n",
    "        x = x + inp\n",
    "        out = tf.nn.relu(x)\n",
    "        return out"
   ]
  },
  {
   "cell_type": "code",
   "execution_count": 23,
   "id": "347f0a46-25d1-44a3-af73-dd450cfd000e",
   "metadata": {},
   "outputs": [
    {
     "name": "stdout",
     "output_type": "stream",
     "text": [
      "(4, 96, 96, 32)\n"
     ]
    }
   ],
   "source": [
    "blk = ResNeXtBlock(32, 16, 1, use_1x1conv=True)\n",
    "X = tf.random.normal((4, 96, 96, 32))\n",
    "result = blk(X)\n",
    "print(result.shape)"
   ]
  }
 ],
 "metadata": {
  "kernelspec": {
   "display_name": "Python 3 (ipykernel)",
   "language": "python",
   "name": "python3"
  },
  "language_info": {
   "codemirror_mode": {
    "name": "ipython",
    "version": 3
   },
   "file_extension": ".py",
   "mimetype": "text/x-python",
   "name": "python",
   "nbconvert_exporter": "python",
   "pygments_lexer": "ipython3",
   "version": "3.9.18"
  }
 },
 "nbformat": 4,
 "nbformat_minor": 5
}
