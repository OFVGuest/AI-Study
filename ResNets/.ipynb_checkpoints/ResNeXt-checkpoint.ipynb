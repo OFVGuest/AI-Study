{
 "cells": [
  {
   "cell_type": "code",
   "execution_count": 1,
   "id": "577712e7-8d89-48fe-9553-908743b54eed",
   "metadata": {},
   "outputs": [],
   "source": [
    "import tensorflow as tf"
   ]
  },
  {
   "cell_type": "code",
   "execution_count": 2,
   "id": "38d70497-afd5-4347-963d-03218008aa22",
   "metadata": {},
   "outputs": [],
   "source": [
    "from tensorflow.keras import layers"
   ]
  },
  {
   "cell_type": "code",
   "execution_count": 4,
   "id": "465d0e72-0f4f-4722-83af-d1a6bd59312e",
   "metadata": {},
   "outputs": [],
   "source": [
    "class ResNeXtBlock(layers.Layer):\n",
    "    def __init__(self, num_channels, groups, bot_mul, strides=1):\n",
    "        super(ResNeXtBlock, self).__init__()\n",
    "        bot_channels = int(round(num_channels * bot_mul))\n",
    "        self.conv1 = layers.Conv2D(bot_channels, kernel_size=1, strides=1)\n",
    "        self.conv2 = layers.Conv2D(bot_channels, kernel_size=3, strides=strides, padding=1, groups=bot_channels//groups)\n",
    "        self.conv3 = layers.Conv2D(num_channels, kernel_size=1, strides=1)\n",
    "        self.bn1 = layers.BatchNormalization()\n",
    "        self.bn2 = layers.BatchNormalization()\n",
    "        self.bn3 = layers.BatchNormalization()\n",
    "\n",
    "\n",
    "    def call(self, inp):\n",
    "        x = self.conv1(inp)\n",
    "        x = self.bn1(x)\n",
    "        x = tf.nn.relu(x)\n",
    "        x = self.conv2(x)\n",
    "        x = self.bn2(x)\n",
    "        x = tf.nn.relu(x)\n",
    "        x = self.conv3(x)\n",
    "        x = self.bn3(x)\n",
    "        x += inp\n",
    "        x = tf.nn.relu(x)\n",
    "        return x"
   ]
  },
  {
   "cell_type": "code",
   "execution_count": null,
   "id": "347f0a46-25d1-44a3-af73-dd450cfd000e",
   "metadata": {},
   "outputs": [],
   "source": []
  }
 ],
 "metadata": {
  "kernelspec": {
   "display_name": "Python 3 (ipykernel)",
   "language": "python",
   "name": "python3"
  },
  "language_info": {
   "codemirror_mode": {
    "name": "ipython",
    "version": 3
   },
   "file_extension": ".py",
   "mimetype": "text/x-python",
   "name": "python",
   "nbconvert_exporter": "python",
   "pygments_lexer": "ipython3",
   "version": "3.9.18"
  }
 },
 "nbformat": 4,
 "nbformat_minor": 5
}
