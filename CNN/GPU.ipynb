{
 "cells": [
  {
   "cell_type": "code",
   "execution_count": 2,
   "id": "f0fdcdf0-5353-4321-ae28-7881d72ce449",
   "metadata": {},
   "outputs": [
    {
     "name": "stdout",
     "output_type": "stream",
     "text": [
      "WARNING:tensorflow:From C:\\Users\\USER\\AppData\\Local\\Temp\\ipykernel_18040\\4193623431.py:4: is_gpu_available (from tensorflow.python.framework.test_util) is deprecated and will be removed in a future version.\n",
      "Instructions for updating:\n",
      "Use `tf.config.list_physical_devices('GPU')` instead.\n",
      "TensorFlow está utilizando la GPU.\n",
      "Dispositivo GPU: PhysicalDevice(name='/physical_device:GPU:0', device_type='GPU')\n"
     ]
    }
   ],
   "source": [
    "import tensorflow as tf\n",
    "\n",
    "if tf.test.is_gpu_available():\n",
    "    print(\"TensorFlow está utilizando la GPU.\")\n",
    "    gpu_devices = tf.config.list_physical_devices('GPU')\n",
    "    for gpu in gpu_devices:\n",
    "        print(\"Dispositivo GPU:\", gpu)\n",
    "else:\n",
    "    print(\"TensorFlow no está utilizando la GPU. Se está ejecutando en la CPU.\")\n"
   ]
  },
  {
   "cell_type": "code",
   "execution_count": 4,
   "id": "5ff98d46-e48b-4ff7-9dd5-953ed3937f02",
   "metadata": {},
   "outputs": [
    {
     "name": "stdout",
     "output_type": "stream",
     "text": [
      "Downloading data from https://storage.googleapis.com/tensorflow/tf-keras-datasets/mnist.npz\n",
      "11490434/11490434 [==============================] - 1s 0us/step\n",
      "Epoch 1/5\n",
      "1875/1875 [==============================] - 9s 4ms/step - loss: 0.3006 - accuracy: 0.9135 - val_loss: 0.1384 - val_accuracy: 0.9592\n",
      "Epoch 2/5\n",
      "1875/1875 [==============================] - 7s 4ms/step - loss: 0.1448 - accuracy: 0.9567 - val_loss: 0.1019 - val_accuracy: 0.9688\n",
      "Epoch 3/5\n",
      "1875/1875 [==============================] - 7s 4ms/step - loss: 0.1082 - accuracy: 0.9673 - val_loss: 0.0884 - val_accuracy: 0.9721\n",
      "Epoch 4/5\n",
      "1875/1875 [==============================] - 7s 4ms/step - loss: 0.0883 - accuracy: 0.9734 - val_loss: 0.0812 - val_accuracy: 0.9752\n",
      "Epoch 5/5\n",
      "1875/1875 [==============================] - 7s 4ms/step - loss: 0.0743 - accuracy: 0.9775 - val_loss: 0.0786 - val_accuracy: 0.9765\n",
      "Tiempo de entrenamiento en la CPU: 36.399261474609375 segundos\n",
      "Epoch 1/5\n",
      "1875/1875 [==============================] - 7s 4ms/step - loss: 0.0662 - accuracy: 0.9789 - val_loss: 0.0739 - val_accuracy: 0.9774\n",
      "Epoch 2/5\n",
      "1875/1875 [==============================] - 7s 4ms/step - loss: 0.0582 - accuracy: 0.9814 - val_loss: 0.0711 - val_accuracy: 0.9800\n",
      "Epoch 3/5\n",
      "1875/1875 [==============================] - 7s 4ms/step - loss: 0.0521 - accuracy: 0.9828 - val_loss: 0.0670 - val_accuracy: 0.9804\n",
      "Epoch 4/5\n",
      "1875/1875 [==============================] - 7s 4ms/step - loss: 0.0479 - accuracy: 0.9845 - val_loss: 0.0784 - val_accuracy: 0.9769\n",
      "Epoch 5/5\n",
      "1875/1875 [==============================] - 7s 4ms/step - loss: 0.0444 - accuracy: 0.9852 - val_loss: 0.0742 - val_accuracy: 0.9793\n",
      "Tiempo de entrenamiento en la GPU: 35.03600025177002 segundos\n",
      "Aceleración de la GPU en comparación con la CPU: 1.038910298351493 veces más rápida.\n"
     ]
    }
   ],
   "source": [
    "from tensorflow.keras import layers, models\n",
    "from tensorflow.keras.datasets import mnist\n",
    "\n",
    "(train_images, train_labels), (test_images, test_labels) = mnist.load_data()\n",
    "train_images, test_images = train_images / 255.0, test_images / 255.0\n",
    "\n",
    "model = models.Sequential([\n",
    "    layers.Flatten(input_shape=(28, 28)),\n",
    "    layers.Dense(128, activation='relu'),\n",
    "    layers.Dropout(0.2),\n",
    "    layers.Dense(10)\n",
    "])\n",
    "\n",
    "model.compile(optimizer='adam',\n",
    "              loss=tf.keras.losses.SparseCategoricalCrossentropy(from_logits=True),\n",
    "              metrics=['accuracy'])\n",
    "\n",
    "start_time = time.time()\n",
    "model.fit(train_images, train_labels, epochs=5, validation_data=(test_images, test_labels))\n",
    "end_time = time.time()\n",
    "cpu_time = end_time - start_time\n",
    "print(f\"Tiempo de entrenamiento en la CPU: {cpu_time} segundos\")\n",
    "\n",
    "physical_devices = tf.config.list_physical_devices('GPU')\n",
    "if len(physical_devices) > 0:\n",
    "    start_time = time.time()\n",
    "    with tf.device('/GPU:0'):\n",
    "        model.fit(train_images, train_labels, epochs=5, validation_data=(test_images, test_labels))\n",
    "    end_time = time.time()\n",
    "    gpu_time = end_time - start_time\n",
    "    print(f\"Tiempo de entrenamiento en la GPU: {gpu_time} segundos\")\n",
    "else:\n",
    "    print(\"No se detectó GPU. No se puede realizar la comparación.\")\n",
    "\n",
    "if 'gpu_time' in locals():\n",
    "    speedup = cpu_time / gpu_time\n",
    "    print(f\"Aceleración de la GPU en comparación con la CPU: {speedup} veces más rápida.\")\n"
   ]
  }
 ],
 "metadata": {
  "kernelspec": {
   "display_name": "Python 3 (ipykernel)",
   "language": "python",
   "name": "python3"
  },
  "language_info": {
   "codemirror_mode": {
    "name": "ipython",
    "version": 3
   },
   "file_extension": ".py",
   "mimetype": "text/x-python",
   "name": "python",
   "nbconvert_exporter": "python",
   "pygments_lexer": "ipython3",
   "version": "3.9.18"
  }
 },
 "nbformat": 4,
 "nbformat_minor": 5
}
